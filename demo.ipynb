{
 "cells": [
  {
   "cell_type": "code",
   "execution_count": 1,
   "id": "229f4238-bf40-4b9e-bf4e-1e6374f7dd26",
   "metadata": {},
   "outputs": [],
   "source": [
    "import os\n",
    "import polars as pl\n",
    "import jane.kaggle_evaluation.jane_street_inference_server"
   ]
  },
  {
   "cell_type": "code",
   "execution_count": 2,
   "id": "0ddd8a7c-4b52-4420-a4a9-363ad1e4cf12",
   "metadata": {},
   "outputs": [],
   "source": [
    "lags_ : pl.DataFrame | None = None"
   ]
  },
  {
   "cell_type": "code",
   "execution_count": 3,
   "id": "1fc67ff5-5ad0-41bd-89bc-3b669496c411",
   "metadata": {},
   "outputs": [],
   "source": [
    "def predict(test: pl.DataFrame, lags: pl.DataFrame | None) -> pl.DataFrame:\n",
    "    print(test)\n",
    "    \"\"\"Make a prediction.\"\"\"\n",
    "    # All the responders from the previous day are passed in at time_id == 0. We save them in a global variable for access at every time_id.\n",
    "    # Use them as extra features, if you like.\n",
    "    global lags_\n",
    "    if lags is not None:\n",
    "        lags_ = lags\n",
    "\n",
    "    predictions = test.select(\n",
    "        'row_id',\n",
    "        pl.lit(0.0).alias('responder_6'),\n",
    "    )\n",
    "\n",
    "    # The predict function must return a DataFrame\n",
    "    assert isinstance(predictions, pl.DataFrame)\n",
    "    # with columns 'row_id', 'responer_6'\n",
    "    assert predictions.columns == ['row_id', 'responder_6']\n",
    "    # and as many rows as the test data.\n",
    "    assert len(predictions) == len(test)\n",
    "\n",
    "    return predictions"
   ]
  },
  {
   "cell_type": "code",
   "execution_count": 4,
   "id": "1872e3eb-9547-46bc-82dc-df70b96b6cf7",
   "metadata": {},
   "outputs": [],
   "source": [
    "inference_server = jane.kaggle_evaluation.jane_street_inference_server.JSInferenceServer(predict)"
   ]
  },
  {
   "cell_type": "code",
   "execution_count": null,
   "id": "22144703-66c6-4d4c-a5e6-724e557c405a",
   "metadata": {},
   "outputs": [],
   "source": []
  },
  {
   "cell_type": "code",
   "execution_count": null,
   "id": "e29c2bc6-d4e2-424b-a0da-c0746e2ed206",
   "metadata": {},
   "outputs": [],
   "source": [
    "if os.getenv('KAGGLE_IS_COMPETITION_RERUN'):\n",
    "    inference_server.serve()\n",
    "else:\n",
    "    inference_server.run_local_gateway(\n",
    "        (\n",
    "            '/kaggle/input/jane-street-real-time-market-data-forecasting/test.parquet',\n",
    "            '/kaggle/input/jane-street-real-time-market-data-forecasting/lags.parquet',\n",
    "        )\n",
    "    )"
   ]
  },
  {
   "cell_type": "code",
   "execution_count": 5,
   "id": "e682635f-5519-46e1-9327-eddea5bebac2",
   "metadata": {},
   "outputs": [
    {
     "name": "stdout",
     "output_type": "stream",
     "text": [
      "shape: (39, 85)\n",
      "┌────────┬─────────┬─────────┬───────────┬───┬────────────┬────────────┬────────────┬────────────┐\n",
      "│ row_id ┆ date_id ┆ time_id ┆ symbol_id ┆ … ┆ feature_75 ┆ feature_76 ┆ feature_77 ┆ feature_78 │\n",
      "│ ---    ┆ ---     ┆ ---     ┆ ---       ┆   ┆ ---        ┆ ---        ┆ ---        ┆ ---        │\n",
      "│ i64    ┆ i16     ┆ i16     ┆ i8        ┆   ┆ f32        ┆ f32        ┆ f32        ┆ f32        │\n",
      "╞════════╪═════════╪═════════╪═══════════╪═══╪════════════╪════════════╪════════════╪════════════╡\n",
      "│ 0      ┆ 0       ┆ 0       ┆ 0         ┆ … ┆ 0.0        ┆ 0.0        ┆ -0.0       ┆ -0.0       │\n",
      "│ 1      ┆ 0       ┆ 0       ┆ 1         ┆ … ┆ 0.0        ┆ 0.0        ┆ 0.0        ┆ 0.0        │\n",
      "│ 2      ┆ 0       ┆ 0       ┆ 2         ┆ … ┆ 0.0        ┆ 0.0        ┆ -0.0       ┆ -0.0       │\n",
      "│ 3      ┆ 0       ┆ 0       ┆ 3         ┆ … ┆ 0.0        ┆ 0.0        ┆ -0.0       ┆ -0.0       │\n",
      "│ 4      ┆ 0       ┆ 0       ┆ 4         ┆ … ┆ 0.0        ┆ 0.0        ┆ 0.0        ┆ 0.0        │\n",
      "│ …      ┆ …       ┆ …       ┆ …         ┆ … ┆ …          ┆ …          ┆ …          ┆ …          │\n",
      "│ 34     ┆ 0       ┆ 0       ┆ 34        ┆ … ┆ 0.0        ┆ 0.0        ┆ 0.0        ┆ 0.0        │\n",
      "│ 35     ┆ 0       ┆ 0       ┆ 35        ┆ … ┆ 0.0        ┆ 0.0        ┆ -0.0       ┆ -0.0       │\n",
      "│ 36     ┆ 0       ┆ 0       ┆ 36        ┆ … ┆ 0.0        ┆ 0.0        ┆ 0.0        ┆ 0.0        │\n",
      "│ 37     ┆ 0       ┆ 0       ┆ 37        ┆ … ┆ 0.0        ┆ 0.0        ┆ 0.0        ┆ 0.0        │\n",
      "│ 38     ┆ 0       ┆ 0       ┆ 38        ┆ … ┆ 0.0        ┆ 0.0        ┆ -0.0       ┆ -0.0       │\n",
      "└────────┴─────────┴─────────┴───────────┴───┴────────────┴────────────┴────────────┴────────────┘\n"
     ]
    }
   ],
   "source": [
    "inference_server.run_local_gateway(\n",
    "    (\n",
    "        'data/test.parquet',\n",
    "        'data/lags.parquet',\n",
    "    )\n",
    ")"
   ]
  },
  {
   "cell_type": "code",
   "execution_count": null,
   "id": "c152b6e4-97ab-4e9b-a164-7ed4346c9587",
   "metadata": {},
   "outputs": [],
   "source": []
  }
 ],
 "metadata": {
  "kernelspec": {
   "display_name": "jane",
   "language": "python",
   "name": "jane"
  },
  "language_info": {
   "codemirror_mode": {
    "name": "ipython",
    "version": 3
   },
   "file_extension": ".py",
   "mimetype": "text/x-python",
   "name": "python",
   "nbconvert_exporter": "python",
   "pygments_lexer": "ipython3",
   "version": "3.10.15"
  }
 },
 "nbformat": 4,
 "nbformat_minor": 5
}
