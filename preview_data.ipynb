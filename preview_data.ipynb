{
 "cells": [
  {
   "cell_type": "code",
   "execution_count": 14,
   "id": "fd1eeb92-c0b7-4861-83f4-a8caabc0313b",
   "metadata": {},
   "outputs": [],
   "source": [
    "import polars as pl\n",
    "import polars_ds as pds"
   ]
  },
  {
   "cell_type": "code",
   "execution_count": 2,
   "id": "827bffbb-dd93-4971-8af1-9fa870a654a5",
   "metadata": {},
   "outputs": [],
   "source": [
    "df_train = pl.scan_parquet(\"data/train.parquet\")"
   ]
  },
  {
   "cell_type": "code",
   "execution_count": 3,
   "id": "b6d773e2-08d8-4bca-8d83-75c004c4ce8f",
   "metadata": {},
   "outputs": [
    {
     "data": {
      "text/html": [
       "<i>naive plan: (run <b>LazyFrame.explain(optimized=True)</b> to see the optimized plan)</i>\n",
       "    <p></p>\n",
       "    <div>Parquet SCAN [data/train.parquet/partition_id=0/part-0.parquet, ... 9 other sources]<p></p>PROJECT */93 COLUMNS</div>"
      ],
      "text/plain": [
       "<LazyFrame at 0x7B58D80182B0>"
      ]
     },
     "execution_count": 3,
     "metadata": {},
     "output_type": "execute_result"
    }
   ],
   "source": [
    "df_train"
   ]
  },
  {
   "cell_type": "code",
   "execution_count": 4,
   "id": "4fd7d4b1-d764-474a-922d-85f9ff477492",
   "metadata": {},
   "outputs": [
    {
     "data": {
      "text/html": [
       "<div><style>\n",
       ".dataframe > thead > tr,\n",
       ".dataframe > tbody > tr {\n",
       "  text-align: right;\n",
       "  white-space: pre-wrap;\n",
       "}\n",
       "</style>\n",
       "<small>shape: (5, 93)</small><table border=\"1\" class=\"dataframe\"><thead><tr><th>date_id</th><th>time_id</th><th>symbol_id</th><th>weight</th><th>feature_00</th><th>feature_01</th><th>feature_02</th><th>feature_03</th><th>feature_04</th><th>feature_05</th><th>feature_06</th><th>feature_07</th><th>feature_08</th><th>feature_09</th><th>feature_10</th><th>feature_11</th><th>feature_12</th><th>feature_13</th><th>feature_14</th><th>feature_15</th><th>feature_16</th><th>feature_17</th><th>feature_18</th><th>feature_19</th><th>feature_20</th><th>feature_21</th><th>feature_22</th><th>feature_23</th><th>feature_24</th><th>feature_25</th><th>feature_26</th><th>feature_27</th><th>feature_28</th><th>feature_29</th><th>feature_30</th><th>feature_31</th><th>feature_32</th><th>&hellip;</th><th>feature_52</th><th>feature_53</th><th>feature_54</th><th>feature_55</th><th>feature_56</th><th>feature_57</th><th>feature_58</th><th>feature_59</th><th>feature_60</th><th>feature_61</th><th>feature_62</th><th>feature_63</th><th>feature_64</th><th>feature_65</th><th>feature_66</th><th>feature_67</th><th>feature_68</th><th>feature_69</th><th>feature_70</th><th>feature_71</th><th>feature_72</th><th>feature_73</th><th>feature_74</th><th>feature_75</th><th>feature_76</th><th>feature_77</th><th>feature_78</th><th>responder_0</th><th>responder_1</th><th>responder_2</th><th>responder_3</th><th>responder_4</th><th>responder_5</th><th>responder_6</th><th>responder_7</th><th>responder_8</th><th>partition_id</th></tr><tr><td>i16</td><td>i16</td><td>i8</td><td>f32</td><td>f32</td><td>f32</td><td>f32</td><td>f32</td><td>f32</td><td>f32</td><td>f32</td><td>f32</td><td>f32</td><td>i8</td><td>i8</td><td>i16</td><td>f32</td><td>f32</td><td>f32</td><td>f32</td><td>f32</td><td>f32</td><td>f32</td><td>f32</td><td>f32</td><td>f32</td><td>f32</td><td>f32</td><td>f32</td><td>f32</td><td>f32</td><td>f32</td><td>f32</td><td>f32</td><td>f32</td><td>f32</td><td>f32</td><td>&hellip;</td><td>f32</td><td>f32</td><td>f32</td><td>f32</td><td>f32</td><td>f32</td><td>f32</td><td>f32</td><td>f32</td><td>f32</td><td>f32</td><td>f32</td><td>f32</td><td>f32</td><td>f32</td><td>f32</td><td>f32</td><td>f32</td><td>f32</td><td>f32</td><td>f32</td><td>f32</td><td>f32</td><td>f32</td><td>f32</td><td>f32</td><td>f32</td><td>f32</td><td>f32</td><td>f32</td><td>f32</td><td>f32</td><td>f32</td><td>f32</td><td>f32</td><td>f32</td><td>i64</td></tr></thead><tbody><tr><td>0</td><td>0</td><td>1</td><td>3.889038</td><td>null</td><td>null</td><td>null</td><td>null</td><td>null</td><td>0.851033</td><td>0.242971</td><td>0.2634</td><td>-0.891687</td><td>11</td><td>7</td><td>76</td><td>-0.883028</td><td>0.003067</td><td>-0.744703</td><td>null</td><td>-0.169586</td><td>null</td><td>-1.335938</td><td>-1.707803</td><td>0.91013</td><td>null</td><td>1.636431</td><td>1.522133</td><td>-1.551398</td><td>-0.229627</td><td>null</td><td>null</td><td>1.378301</td><td>-0.283712</td><td>0.123196</td><td>null</td><td>null</td><td>&hellip;</td><td>null</td><td>null</td><td>-0.808103</td><td>null</td><td>-2.037683</td><td>0.727661</td><td>null</td><td>-0.989118</td><td>-0.345213</td><td>-1.36224</td><td>null</td><td>null</td><td>null</td><td>null</td><td>null</td><td>-1.251104</td><td>-0.110252</td><td>-0.491157</td><td>-1.02269</td><td>0.152241</td><td>-0.659864</td><td>null</td><td>null</td><td>-0.261412</td><td>-0.211486</td><td>-0.335556</td><td>-0.281498</td><td>0.738489</td><td>-0.069556</td><td>1.380875</td><td>2.005353</td><td>0.186018</td><td>1.218368</td><td>0.775981</td><td>0.346999</td><td>0.095504</td><td>0</td></tr><tr><td>0</td><td>0</td><td>7</td><td>1.370613</td><td>null</td><td>null</td><td>null</td><td>null</td><td>null</td><td>0.676961</td><td>0.151984</td><td>0.192465</td><td>-0.521729</td><td>11</td><td>7</td><td>76</td><td>-0.865307</td><td>-0.225629</td><td>-0.582163</td><td>null</td><td>0.317467</td><td>null</td><td>-1.250016</td><td>-1.682929</td><td>1.412757</td><td>null</td><td>0.520378</td><td>0.744132</td><td>-0.788658</td><td>0.641776</td><td>null</td><td>null</td><td>0.2272</td><td>0.580907</td><td>1.128879</td><td>null</td><td>null</td><td>&hellip;</td><td>null</td><td>null</td><td>-1.625862</td><td>null</td><td>-1.410017</td><td>1.063013</td><td>null</td><td>0.888355</td><td>0.467994</td><td>-1.36224</td><td>null</td><td>null</td><td>null</td><td>null</td><td>null</td><td>-1.065759</td><td>0.013322</td><td>-0.592855</td><td>-1.052685</td><td>-0.393726</td><td>-0.741603</td><td>null</td><td>null</td><td>-0.281207</td><td>-0.182894</td><td>-0.245565</td><td>-0.302441</td><td>2.965889</td><td>1.190077</td><td>-0.523998</td><td>3.849921</td><td>2.626981</td><td>5.0</td><td>0.703665</td><td>0.216683</td><td>0.778639</td><td>0</td></tr><tr><td>0</td><td>0</td><td>9</td><td>2.285698</td><td>null</td><td>null</td><td>null</td><td>null</td><td>null</td><td>1.056285</td><td>0.187227</td><td>0.249901</td><td>-0.77305</td><td>11</td><td>7</td><td>76</td><td>-0.675719</td><td>-0.199404</td><td>-0.586798</td><td>null</td><td>-0.814909</td><td>null</td><td>-1.296782</td><td>-2.040234</td><td>0.639589</td><td>null</td><td>1.597359</td><td>0.657514</td><td>-1.350148</td><td>0.364215</td><td>null</td><td>null</td><td>-0.017751</td><td>-0.317361</td><td>-0.122379</td><td>null</td><td>null</td><td>&hellip;</td><td>null</td><td>null</td><td>-0.72542</td><td>null</td><td>-2.29417</td><td>1.764551</td><td>null</td><td>-0.120789</td><td>-0.063458</td><td>-1.36224</td><td>null</td><td>null</td><td>null</td><td>null</td><td>null</td><td>-0.882604</td><td>-0.072482</td><td>-0.617934</td><td>-0.86323</td><td>-0.241892</td><td>-0.709919</td><td>null</td><td>null</td><td>0.377131</td><td>0.300724</td><td>-0.106842</td><td>-0.096792</td><td>-0.864488</td><td>-0.280303</td><td>-0.326697</td><td>0.375781</td><td>1.271291</td><td>0.099793</td><td>2.109352</td><td>0.670881</td><td>0.772828</td><td>0</td></tr><tr><td>0</td><td>0</td><td>10</td><td>0.690606</td><td>null</td><td>null</td><td>null</td><td>null</td><td>null</td><td>1.139366</td><td>0.273328</td><td>0.306549</td><td>-1.262223</td><td>42</td><td>5</td><td>150</td><td>-0.694008</td><td>3.004091</td><td>0.114809</td><td>null</td><td>-0.251882</td><td>null</td><td>-1.902009</td><td>-0.979447</td><td>0.241165</td><td>null</td><td>-0.392359</td><td>-0.224699</td><td>-2.129397</td><td>-0.855287</td><td>null</td><td>null</td><td>0.404142</td><td>-0.578156</td><td>0.105702</td><td>null</td><td>null</td><td>&hellip;</td><td>null</td><td>null</td><td>1.313203</td><td>null</td><td>-0.810125</td><td>2.939022</td><td>null</td><td>3.988801</td><td>1.834661</td><td>-1.36224</td><td>null</td><td>null</td><td>null</td><td>null</td><td>null</td><td>-0.697595</td><td>1.074309</td><td>-0.206929</td><td>-0.530602</td><td>4.765215</td><td>0.571554</td><td>null</td><td>null</td><td>-0.226891</td><td>-0.251412</td><td>-0.215522</td><td>-0.296244</td><td>0.408499</td><td>0.223992</td><td>2.294888</td><td>1.097444</td><td>1.225872</td><td>1.225376</td><td>1.114137</td><td>0.775199</td><td>-1.379516</td><td>0</td></tr><tr><td>0</td><td>0</td><td>14</td><td>0.44057</td><td>null</td><td>null</td><td>null</td><td>null</td><td>null</td><td>0.9552</td><td>0.262404</td><td>0.344457</td><td>-0.613813</td><td>44</td><td>3</td><td>16</td><td>-0.947351</td><td>-0.030018</td><td>-0.502379</td><td>null</td><td>0.646086</td><td>null</td><td>-1.844685</td><td>-1.58656</td><td>-0.182024</td><td>null</td><td>-0.969949</td><td>-0.673813</td><td>-1.282132</td><td>-1.399894</td><td>null</td><td>null</td><td>0.043815</td><td>-0.320225</td><td>-0.031713</td><td>null</td><td>null</td><td>&hellip;</td><td>null</td><td>null</td><td>0.476195</td><td>null</td><td>-0.771732</td><td>2.843421</td><td>null</td><td>1.379815</td><td>0.411827</td><td>-1.36224</td><td>null</td><td>null</td><td>null</td><td>null</td><td>null</td><td>-0.948601</td><td>-0.136814</td><td>-0.447704</td><td>-1.141761</td><td>0.099631</td><td>-0.661928</td><td>null</td><td>null</td><td>3.678076</td><td>2.793581</td><td>2.61825</td><td>3.418133</td><td>-0.373387</td><td>-0.502764</td><td>-0.348021</td><td>-3.928148</td><td>-1.591366</td><td>-5.0</td><td>-3.57282</td><td>-1.089123</td><td>-5.0</td><td>0</td></tr></tbody></table></div>"
      ],
      "text/plain": [
       "shape: (5, 93)\n",
       "┌─────────┬─────────┬───────────┬──────────┬───┬────────────┬────────────┬────────────┬────────────┐\n",
       "│ date_id ┆ time_id ┆ symbol_id ┆ weight   ┆ … ┆ responder_ ┆ responder_ ┆ responder_ ┆ partition_ │\n",
       "│ ---     ┆ ---     ┆ ---       ┆ ---      ┆   ┆ 6          ┆ 7          ┆ 8          ┆ id         │\n",
       "│ i16     ┆ i16     ┆ i8        ┆ f32      ┆   ┆ ---        ┆ ---        ┆ ---        ┆ ---        │\n",
       "│         ┆         ┆           ┆          ┆   ┆ f32        ┆ f32        ┆ f32        ┆ i64        │\n",
       "╞═════════╪═════════╪═══════════╪══════════╪═══╪════════════╪════════════╪════════════╪════════════╡\n",
       "│ 0       ┆ 0       ┆ 1         ┆ 3.889038 ┆ … ┆ 0.775981   ┆ 0.346999   ┆ 0.095504   ┆ 0          │\n",
       "│ 0       ┆ 0       ┆ 7         ┆ 1.370613 ┆ … ┆ 0.703665   ┆ 0.216683   ┆ 0.778639   ┆ 0          │\n",
       "│ 0       ┆ 0       ┆ 9         ┆ 2.285698 ┆ … ┆ 2.109352   ┆ 0.670881   ┆ 0.772828   ┆ 0          │\n",
       "│ 0       ┆ 0       ┆ 10        ┆ 0.690606 ┆ … ┆ 1.114137   ┆ 0.775199   ┆ -1.379516  ┆ 0          │\n",
       "│ 0       ┆ 0       ┆ 14        ┆ 0.44057  ┆ … ┆ -3.57282   ┆ -1.089123  ┆ -5.0       ┆ 0          │\n",
       "└─────────┴─────────┴───────────┴──────────┴───┴────────────┴────────────┴────────────┴────────────┘"
      ]
     },
     "execution_count": 4,
     "metadata": {},
     "output_type": "execute_result"
    }
   ],
   "source": [
    "df_train.head().collect()"
   ]
  },
  {
   "cell_type": "code",
   "execution_count": 5,
   "id": "51684d00-1cca-459c-a924-44e21220de8d",
   "metadata": {},
   "outputs": [
    {
     "data": {
      "text/html": [
       "<div><style>\n",
       ".dataframe > thead > tr,\n",
       ".dataframe > tbody > tr {\n",
       "  text-align: right;\n",
       "  white-space: pre-wrap;\n",
       "}\n",
       "</style>\n",
       "<small>shape: (9, 94)</small><table border=\"1\" class=\"dataframe\"><thead><tr><th>statistic</th><th>date_id</th><th>time_id</th><th>symbol_id</th><th>weight</th><th>feature_00</th><th>feature_01</th><th>feature_02</th><th>feature_03</th><th>feature_04</th><th>feature_05</th><th>feature_06</th><th>feature_07</th><th>feature_08</th><th>feature_09</th><th>feature_10</th><th>feature_11</th><th>feature_12</th><th>feature_13</th><th>feature_14</th><th>feature_15</th><th>feature_16</th><th>feature_17</th><th>feature_18</th><th>feature_19</th><th>feature_20</th><th>feature_21</th><th>feature_22</th><th>feature_23</th><th>feature_24</th><th>feature_25</th><th>feature_26</th><th>feature_27</th><th>feature_28</th><th>feature_29</th><th>feature_30</th><th>feature_31</th><th>&hellip;</th><th>feature_52</th><th>feature_53</th><th>feature_54</th><th>feature_55</th><th>feature_56</th><th>feature_57</th><th>feature_58</th><th>feature_59</th><th>feature_60</th><th>feature_61</th><th>feature_62</th><th>feature_63</th><th>feature_64</th><th>feature_65</th><th>feature_66</th><th>feature_67</th><th>feature_68</th><th>feature_69</th><th>feature_70</th><th>feature_71</th><th>feature_72</th><th>feature_73</th><th>feature_74</th><th>feature_75</th><th>feature_76</th><th>feature_77</th><th>feature_78</th><th>responder_0</th><th>responder_1</th><th>responder_2</th><th>responder_3</th><th>responder_4</th><th>responder_5</th><th>responder_6</th><th>responder_7</th><th>responder_8</th><th>partition_id</th></tr><tr><td>str</td><td>f64</td><td>f64</td><td>f64</td><td>f64</td><td>f64</td><td>f64</td><td>f64</td><td>f64</td><td>f64</td><td>f64</td><td>f64</td><td>f64</td><td>f64</td><td>f64</td><td>f64</td><td>f64</td><td>f64</td><td>f64</td><td>f64</td><td>f64</td><td>f64</td><td>f64</td><td>f64</td><td>f64</td><td>f64</td><td>f64</td><td>f64</td><td>f64</td><td>f64</td><td>f64</td><td>f64</td><td>f64</td><td>f64</td><td>f64</td><td>f64</td><td>f64</td><td>&hellip;</td><td>f64</td><td>f64</td><td>f64</td><td>f64</td><td>f64</td><td>f64</td><td>f64</td><td>f64</td><td>f64</td><td>f64</td><td>f64</td><td>f64</td><td>f64</td><td>f64</td><td>f64</td><td>f64</td><td>f64</td><td>f64</td><td>f64</td><td>f64</td><td>f64</td><td>f64</td><td>f64</td><td>f64</td><td>f64</td><td>f64</td><td>f64</td><td>f64</td><td>f64</td><td>f64</td><td>f64</td><td>f64</td><td>f64</td><td>f64</td><td>f64</td><td>f64</td><td>f64</td></tr></thead><tbody><tr><td>&quot;count&quot;</td><td>1.94421e6</td><td>1.94421e6</td><td>1.94421e6</td><td>1.94421e6</td><td>0.0</td><td>0.0</td><td>0.0</td><td>0.0</td><td>0.0</td><td>1.94421e6</td><td>1.94421e6</td><td>1.94421e6</td><td>1.92723e6</td><td>1.94421e6</td><td>1.94421e6</td><td>1.94421e6</td><td>1.94421e6</td><td>1.94421e6</td><td>1.94421e6</td><td>1.889218e6</td><td>1.944147e6</td><td>1.934978e6</td><td>1.944151e6</td><td>1.944151e6</td><td>1.94421e6</td><td>0.0</td><td>1.94421e6</td><td>1.94421e6</td><td>1.94421e6</td><td>1.94421e6</td><td>0.0</td><td>0.0</td><td>1.94421e6</td><td>1.94421e6</td><td>1.94421e6</td><td>0.0</td><td>&hellip;</td><td>1.88009e6</td><td>1.65109e6</td><td>1.94192e6</td><td>1.88009e6</td><td>1.944151e6</td><td>1.944151e6</td><td>1.922478e6</td><td>1.94421e6</td><td>1.94421e6</td><td>1.94421e6</td><td>1.790211e6</td><td>1.810936e6</td><td>1.807752e6</td><td>1.777836e6</td><td>1.777836e6</td><td>1.94421e6</td><td>1.94421e6</td><td>1.94421e6</td><td>1.94421e6</td><td>1.94421e6</td><td>1.94421e6</td><td>1.922478e6</td><td>1.922478e6</td><td>1.944194e6</td><td>1.944194e6</td><td>1.94421e6</td><td>1.94421e6</td><td>1.94421e6</td><td>1.94421e6</td><td>1.94421e6</td><td>1.94421e6</td><td>1.94421e6</td><td>1.94421e6</td><td>1.94421e6</td><td>1.94421e6</td><td>1.94421e6</td><td>1.94421e6</td></tr><tr><td>&quot;null_count&quot;</td><td>0.0</td><td>0.0</td><td>0.0</td><td>0.0</td><td>1.94421e6</td><td>1.94421e6</td><td>1.94421e6</td><td>1.94421e6</td><td>1.94421e6</td><td>0.0</td><td>0.0</td><td>0.0</td><td>16980.0</td><td>0.0</td><td>0.0</td><td>0.0</td><td>0.0</td><td>0.0</td><td>0.0</td><td>54992.0</td><td>63.0</td><td>9232.0</td><td>59.0</td><td>59.0</td><td>0.0</td><td>1.94421e6</td><td>0.0</td><td>0.0</td><td>0.0</td><td>0.0</td><td>1.94421e6</td><td>1.94421e6</td><td>0.0</td><td>0.0</td><td>0.0</td><td>1.94421e6</td><td>&hellip;</td><td>64120.0</td><td>293120.0</td><td>2290.0</td><td>64120.0</td><td>59.0</td><td>59.0</td><td>21732.0</td><td>0.0</td><td>0.0</td><td>0.0</td><td>153999.0</td><td>133274.0</td><td>136458.0</td><td>166374.0</td><td>166374.0</td><td>0.0</td><td>0.0</td><td>0.0</td><td>0.0</td><td>0.0</td><td>0.0</td><td>21732.0</td><td>21732.0</td><td>16.0</td><td>16.0</td><td>0.0</td><td>0.0</td><td>0.0</td><td>0.0</td><td>0.0</td><td>0.0</td><td>0.0</td><td>0.0</td><td>0.0</td><td>0.0</td><td>0.0</td><td>0.0</td></tr><tr><td>&quot;mean&quot;</td><td>93.846288</td><td>424.0</td><td>13.766376</td><td>1.973282</td><td>null</td><td>null</td><td>null</td><td>null</td><td>null</td><td>-0.044632</td><td>-0.006456</td><td>-0.019842</td><td>0.059797</td><td>28.628384</td><td>4.778166</td><td>168.016157</td><td>0.053623</td><td>0.03939</td><td>0.058634</td><td>0.331464</td><td>0.255926</td><td>0.32587</td><td>0.116747</td><td>0.034538</td><td>0.325885</td><td>null</td><td>0.429067</td><td>0.399052</td><td>-0.999268</td><td>0.196233</td><td>null</td><td>null</td><td>0.163988</td><td>-0.019372</td><td>0.381216</td><td>null</td><td>&hellip;</td><td>0.118185</td><td>-0.092012</td><td>0.006591</td><td>-0.104968</td><td>-0.076846</td><td>-0.037126</td><td>-0.033732</td><td>-0.006372</td><td>-0.017632</td><td>-0.034067</td><td>0.649949</td><td>0.556831</td><td>0.580783</td><td>0.300181</td><td>0.231899</td><td>0.063448</td><td>0.037422</td><td>0.061478</td><td>0.04048</td><td>0.029071</td><td>0.048575</td><td>-0.118527</td><td>-0.120112</td><td>-0.083468</td><td>-0.084515</td><td>-0.096821</td><td>-0.098051</td><td>0.008425</td><td>0.010765</td><td>0.002413</td><td>0.011391</td><td>0.021855</td><td>0.003327</td><td>0.001488</td><td>-0.000482</td><td>0.001078</td><td>0.0</td></tr><tr><td>&quot;std&quot;</td><td>48.131963</td><td>245.085082</td><td>11.087783</td><td>0.969197</td><td>null</td><td>null</td><td>null</td><td>null</td><td>null</td><td>0.947958</td><td>0.935119</td><td>0.967365</td><td>0.92284</td><td>23.910034</td><td>2.434048</td><td>174.221678</td><td>1.221367</td><td>1.301022</td><td>1.230007</td><td>1.105641</td><td>1.265235</td><td>1.173493</td><td>1.002713</td><td>1.038083</td><td>1.026575</td><td>null</td><td>0.943643</td><td>0.881062</td><td>0.734232</td><td>0.994776</td><td>null</td><td>null</td><td>0.937258</td><td>0.829064</td><td>1.08911</td><td>null</td><td>&hellip;</td><td>1.045308</td><td>0.993687</td><td>1.225616</td><td>1.055472</td><td>1.024146</td><td>1.004834</td><td>0.979773</td><td>0.979413</td><td>0.98268</td><td>1.109674</td><td>2.686165</td><td>2.578012</td><td>2.651716</td><td>0.912934</td><td>0.908562</td><td>1.232994</td><td>1.317462</td><td>1.253779</td><td>1.243743</td><td>1.316291</td><td>1.270607</td><td>0.642401</td><td>0.6352</td><td>0.759618</td><td>0.754082</td><td>0.649495</td><td>0.639899</td><td>0.955878</td><td>1.141793</td><td>0.844203</td><td>1.276044</td><td>1.266448</td><td>1.225165</td><td>0.870577</td><td>0.891815</td><td>0.873732</td><td>0.0</td></tr><tr><td>&quot;min&quot;</td><td>0.0</td><td>0.0</td><td>0.0</td><td>0.44057</td><td>null</td><td>null</td><td>null</td><td>null</td><td>null</td><td>-11.76608</td><td>-25.143543</td><td>-20.321791</td><td>-6.224619</td><td>4.0</td><td>1.0</td><td>11.0</td><td>-1.913078</td><td>-0.892107</td><td>-1.318024</td><td>-1.35983</td><td>-1.760566</td><td>-1.673085</td><td>-6.000734</td><td>-4.55074</td><td>-3.294369</td><td>null</td><td>-1.971631</td><td>-1.752133</td><td>-3.110884</td><td>-1.650518</td><td>null</td><td>null</td><td>-3.150075</td><td>-1.023257</td><td>-1.059913</td><td>null</td><td>&hellip;</td><td>-4.15804</td><td>-5.353856</td><td>-5.606056</td><td>-5.698468</td><td>-4.26841</td><td>-4.189552</td><td>-33.358139</td><td>-169.922882</td><td>-62.636726</td><td>-5.049103</td><td>-0.932498</td><td>-0.821984</td><td>-0.911218</td><td>-3.682407</td><td>-3.53722</td><td>-1.634</td><td>-0.69844</td><td>-1.281004</td><td>-1.741313</td><td>-0.802825</td><td>-1.379583</td><td>-3.079401</td><td>-3.232666</td><td>-4.003407</td><td>-3.784688</td><td>-3.693742</td><td>-3.393299</td><td>-5.0</td><td>-5.0</td><td>-5.0</td><td>-5.0</td><td>-5.0</td><td>-5.0</td><td>-5.0</td><td>-5.0</td><td>-5.0</td><td>0.0</td></tr><tr><td>&quot;25%&quot;</td><td>54.0</td><td>212.0</td><td>7.0</td><td>1.323803</td><td>null</td><td>null</td><td>null</td><td>null</td><td>null</td><td>-0.475608</td><td>-0.341202</td><td>-0.41689</td><td>-0.420154</td><td>11.0</td><td>3.0</td><td>76.0</td><td>-0.502301</td><td>-0.420506</td><td>-0.485272</td><td>-0.237805</td><td>-0.393739</td><td>-0.263575</td><td>-0.56898</td><td>-0.653741</td><td>-0.428882</td><td>null</td><td>-0.249796</td><td>-0.151856</td><td>-1.476237</td><td>-0.598053</td><td>null</td><td>null</td><td>-0.444068</td><td>-0.488242</td><td>-0.221709</td><td>null</td><td>&hellip;</td><td>-0.51633</td><td>-0.763263</td><td>-0.901682</td><td>-0.814973</td><td>-0.785447</td><td>-0.688242</td><td>-0.426656</td><td>-0.121598</td><td>-0.318768</td><td>-0.869813</td><td>-0.10714</td><td>-0.354534</td><td>-0.226096</td><td>-0.330123</td><td>-0.381427</td><td>-0.491542</td><td>-0.35649</td><td>-0.461403</td><td>-0.528345</td><td>-0.392743</td><td>-0.516869</td><td>-0.36331</td><td>-0.365518</td><td>-0.303029</td><td>-0.308946</td><td>-0.316985</td><td>-0.31957</td><td>-0.232221</td><td>-0.266787</td><td>-0.121032</td><td>-0.444454</td><td>-0.51467</td><td>-0.25699</td><td>-0.355871</td><td>-0.391404</td><td>-0.289258</td><td>0.0</td></tr><tr><td>&quot;50%&quot;</td><td>99.0</td><td>424.0</td><td>12.0</td><td>1.764209</td><td>null</td><td>null</td><td>null</td><td>null</td><td>null</td><td>-0.058182</td><td>-0.011917</td><td>-0.033277</td><td>0.029551</td><td>11.0</td><td>6.0</td><td>76.0</td><td>-0.201469</td><td>-0.295947</td><td>-0.230827</td><td>0.017185</td><td>-0.033035</td><td>0.016372</td><td>0.050011</td><td>0.018639</td><td>0.349886</td><td>null</td><td>0.31417</td><td>0.359054</td><td>-1.069155</td><td>0.058453</td><td>null</td><td>null</td><td>0.256436</td><td>-0.249195</td><td>0.05019</td><td>null</td><td>&hellip;</td><td>0.133265</td><td>-0.099637</td><td>-0.15856</td><td>-0.135167</td><td>-0.076706</td><td>-0.022311</td><td>-0.024515</td><td>-0.004888</td><td>-0.013075</td><td>-0.033116</td><td>0.157038</td><td>0.078813</td><td>0.100528</td><td>0.252438</td><td>0.199632</td><td>-0.211901</td><td>-0.269034</td><td>-0.240417</td><td>-0.210011</td><td>-0.293813</td><td>-0.253106</td><td>-0.282656</td><td>-0.275395</td><td>-0.253381</td><td>-0.247268</td><td>-0.254247</td><td>-0.246879</td><td>-0.003944</td><td>-0.023334</td><td>-0.001248</td><td>-0.010312</td><td>-0.018368</td><td>-0.00469</td><td>-0.009597</td><td>-0.023762</td><td>-0.000311</td><td>0.0</td></tr><tr><td>&quot;75%&quot;</td><td>136.0</td><td>636.0</td><td>17.0</td><td>2.393846</td><td>null</td><td>null</td><td>null</td><td>null</td><td>null</td><td>0.349377</td><td>0.30361</td><td>0.34191</td><td>0.468864</td><td>50.0</td><td>7.0</td><td>261.0</td><td>0.24653</td><td>0.03362</td><td>0.207066</td><td>0.446059</td><td>0.478321</td><td>0.455186</td><td>0.77687</td><td>0.733522</td><td>1.01745</td><td>null</td><td>1.009719</td><td>1.009176</td><td>-0.672637</td><td>0.916856</td><td>null</td><td>null</td><td>0.782875</td><td>0.103747</td><td>0.496716</td><td>null</td><td>&hellip;</td><td>0.820278</td><td>0.571297</td><td>1.029541</td><td>0.52587</td><td>0.625996</td><td>0.63097</td><td>0.366989</td><td>0.103999</td><td>0.28492</td><td>0.606523</td><td>0.646958</td><td>0.758006</td><td>0.701615</td><td>0.911017</td><td>0.83713</td><td>0.227491</td><td>-0.042074</td><td>0.161207</td><td>0.259021</td><td>-0.033778</td><td>0.213171</td><td>-0.121321</td><td>-0.113057</td><td>-0.189445</td><td>-0.176173</td><td>-0.134745</td><td>-0.125656</td><td>0.230968</td><td>0.253816</td><td>0.119123</td><td>0.429215</td><td>0.506537</td><td>0.243888</td><td>0.3361</td><td>0.346398</td><td>0.284082</td><td>0.0</td></tr><tr><td>&quot;max&quot;</td><td>169.0</td><td>848.0</td><td>38.0</td><td>6.011999</td><td>null</td><td>null</td><td>null</td><td>null</td><td>null</td><td>15.319997</td><td>24.158113</td><td>28.097809</td><td>13.068775</td><td>81.0</td><td>7.0</td><td>534.0</td><td>60.562263</td><td>134.205566</td><td>82.134956</td><td>86.971992</td><td>220.132477</td><td>134.500641</td><td>5.266371</td><td>5.635514</td><td>4.54154</td><td>null</td><td>3.755303</td><td>2.896742</td><td>3.376201</td><td>3.465797</td><td>null</td><td>null</td><td>2.493492</td><td>4.861078</td><td>9.321818</td><td>null</td><td>&hellip;</td><td>5.672063</td><td>5.086051</td><td>4.036324</td><td>4.242128</td><td>4.164509</td><td>4.113091</td><td>58.441505</td><td>186.287704</td><td>120.785431</td><td>5.267138</td><td>131.933029</td><td>162.320709</td><td>149.883102</td><td>5.063167</td><td>4.476054</td><td>53.487972</td><td>207.99649</td><td>72.41835</td><td>63.75872</td><td>168.990189</td><td>112.492989</td><td>34.819763</td><td>36.516098</td><td>42.018932</td><td>41.826225</td><td>46.722252</td><td>43.70195</td><td>5.0</td><td>5.0</td><td>5.0</td><td>5.0</td><td>5.0</td><td>5.0</td><td>5.0</td><td>5.0</td><td>5.0</td><td>0.0</td></tr></tbody></table></div>"
      ],
      "text/plain": [
       "shape: (9, 94)\n",
       "┌───────────┬───────────┬───────────┬───────────┬───┬───────────┬───────────┬───────────┬──────────┐\n",
       "│ statistic ┆ date_id   ┆ time_id   ┆ symbol_id ┆ … ┆ responder ┆ responder ┆ responder ┆ partitio │\n",
       "│ ---       ┆ ---       ┆ ---       ┆ ---       ┆   ┆ _6        ┆ _7        ┆ _8        ┆ n_id     │\n",
       "│ str       ┆ f64       ┆ f64       ┆ f64       ┆   ┆ ---       ┆ ---       ┆ ---       ┆ ---      │\n",
       "│           ┆           ┆           ┆           ┆   ┆ f64       ┆ f64       ┆ f64       ┆ f64      │\n",
       "╞═══════════╪═══════════╪═══════════╪═══════════╪═══╪═══════════╪═══════════╪═══════════╪══════════╡\n",
       "│ count     ┆ 1.94421e6 ┆ 1.94421e6 ┆ 1.94421e6 ┆ … ┆ 1.94421e6 ┆ 1.94421e6 ┆ 1.94421e6 ┆ 1.94421e │\n",
       "│           ┆           ┆           ┆           ┆   ┆           ┆           ┆           ┆ 6        │\n",
       "│ null_coun ┆ 0.0       ┆ 0.0       ┆ 0.0       ┆ … ┆ 0.0       ┆ 0.0       ┆ 0.0       ┆ 0.0      │\n",
       "│ t         ┆           ┆           ┆           ┆   ┆           ┆           ┆           ┆          │\n",
       "│ mean      ┆ 93.846288 ┆ 424.0     ┆ 13.766376 ┆ … ┆ 0.001488  ┆ -0.000482 ┆ 0.001078  ┆ 0.0      │\n",
       "│ std       ┆ 48.131963 ┆ 245.08508 ┆ 11.087783 ┆ … ┆ 0.870577  ┆ 0.891815  ┆ 0.873732  ┆ 0.0      │\n",
       "│           ┆           ┆ 2         ┆           ┆   ┆           ┆           ┆           ┆          │\n",
       "│ min       ┆ 0.0       ┆ 0.0       ┆ 0.0       ┆ … ┆ -5.0      ┆ -5.0      ┆ -5.0      ┆ 0.0      │\n",
       "│ 25%       ┆ 54.0      ┆ 212.0     ┆ 7.0       ┆ … ┆ -0.355871 ┆ -0.391404 ┆ -0.289258 ┆ 0.0      │\n",
       "│ 50%       ┆ 99.0      ┆ 424.0     ┆ 12.0      ┆ … ┆ -0.009597 ┆ -0.023762 ┆ -0.000311 ┆ 0.0      │\n",
       "│ 75%       ┆ 136.0     ┆ 636.0     ┆ 17.0      ┆ … ┆ 0.3361    ┆ 0.346398  ┆ 0.284082  ┆ 0.0      │\n",
       "│ max       ┆ 169.0     ┆ 848.0     ┆ 38.0      ┆ … ┆ 5.0       ┆ 5.0       ┆ 5.0       ┆ 0.0      │\n",
       "└───────────┴───────────┴───────────┴───────────┴───┴───────────┴───────────┴───────────┴──────────┘"
      ]
     },
     "execution_count": 5,
     "metadata": {},
     "output_type": "execute_result"
    }
   ],
   "source": [
    "df_train.filter(\n",
    "    pl.col(\"partition_id\") == 0\n",
    ").describe()"
   ]
  },
  {
   "cell_type": "code",
   "execution_count": 27,
   "id": "3e9f1b7a-8ada-427a-b650-acf096dac4a5",
   "metadata": {},
   "outputs": [
    {
     "data": {
      "text/html": [
       "<div><style>\n",
       ".dataframe > thead > tr,\n",
       ".dataframe > tbody > tr {\n",
       "  text-align: right;\n",
       "  white-space: pre-wrap;\n",
       "}\n",
       "</style>\n",
       "<small>shape: (9, 5)</small><table border=\"1\" class=\"dataframe\"><thead><tr><th>statistic</th><th>date_id</th><th>time_id</th><th>weight</th><th>responder_6</th></tr><tr><td>str</td><td>f64</td><td>f64</td><td>f64</td><td>f64</td></tr></thead><tbody><tr><td>&quot;count&quot;</td><td>143481.0</td><td>143481.0</td><td>143481.0</td><td>143481.0</td></tr><tr><td>&quot;null_count&quot;</td><td>0.0</td><td>0.0</td><td>0.0</td><td>0.0</td></tr><tr><td>&quot;mean&quot;</td><td>84.52071</td><td>424.0</td><td>3.864704</td><td>-0.000238</td></tr><tr><td>&quot;std&quot;</td><td>49.21833</td><td>245.085873</td><td>0.927041</td><td>0.635928</td></tr><tr><td>&quot;min&quot;</td><td>0.0</td><td>0.0</td><td>2.173901</td><td>-5.0</td></tr><tr><td>&quot;25%&quot;</td><td>42.0</td><td>212.0</td><td>3.184843</td><td>-0.31527</td></tr><tr><td>&quot;50%&quot;</td><td>85.0</td><td>424.0</td><td>3.786087</td><td>-0.00519</td></tr><tr><td>&quot;75%&quot;</td><td>127.0</td><td>636.0</td><td>4.515741</td><td>0.309065</td></tr><tr><td>&quot;max&quot;</td><td>169.0</td><td>848.0</td><td>6.011999</td><td>5.0</td></tr></tbody></table></div>"
      ],
      "text/plain": [
       "shape: (9, 5)\n",
       "┌────────────┬──────────┬────────────┬──────────┬─────────────┐\n",
       "│ statistic  ┆ date_id  ┆ time_id    ┆ weight   ┆ responder_6 │\n",
       "│ ---        ┆ ---      ┆ ---        ┆ ---      ┆ ---         │\n",
       "│ str        ┆ f64      ┆ f64        ┆ f64      ┆ f64         │\n",
       "╞════════════╪══════════╪════════════╪══════════╪═════════════╡\n",
       "│ count      ┆ 143481.0 ┆ 143481.0   ┆ 143481.0 ┆ 143481.0    │\n",
       "│ null_count ┆ 0.0      ┆ 0.0        ┆ 0.0      ┆ 0.0         │\n",
       "│ mean       ┆ 84.52071 ┆ 424.0      ┆ 3.864704 ┆ -0.000238   │\n",
       "│ std        ┆ 49.21833 ┆ 245.085873 ┆ 0.927041 ┆ 0.635928    │\n",
       "│ min        ┆ 0.0      ┆ 0.0        ┆ 2.173901 ┆ -5.0        │\n",
       "│ 25%        ┆ 42.0     ┆ 212.0      ┆ 3.184843 ┆ -0.31527    │\n",
       "│ 50%        ┆ 85.0     ┆ 424.0      ┆ 3.786087 ┆ -0.00519    │\n",
       "│ 75%        ┆ 127.0    ┆ 636.0      ┆ 4.515741 ┆ 0.309065    │\n",
       "│ max        ┆ 169.0    ┆ 848.0      ┆ 6.011999 ┆ 5.0         │\n",
       "└────────────┴──────────┴────────────┴──────────┴─────────────┘"
      ]
     },
     "execution_count": 27,
     "metadata": {},
     "output_type": "execute_result"
    }
   ],
   "source": [
    "df_train.filter(\n",
    "    pl.col(\"partition_id\") == 0\n",
    ").filter(\n",
    "    pl.col(\"symbol_id\") == 1\n",
    ").select(\n",
    "    pl.col(\"date_id\", \"time_id\", \"weight\", \"responder_6\")\n",
    ").describe()"
   ]
  },
  {
   "cell_type": "code",
   "execution_count": 25,
   "id": "60fe2667-e274-4b23-aeaf-74b8aabba912",
   "metadata": {},
   "outputs": [
    {
     "data": {
      "text/html": [
       "<div><style>\n",
       ".dataframe > thead > tr,\n",
       ".dataframe > tbody > tr {\n",
       "  text-align: right;\n",
       "  white-space: pre-wrap;\n",
       "}\n",
       "</style>\n",
       "<small>shape: (169, 2)</small><table border=\"1\" class=\"dataframe\"><thead><tr><th>date_id</th><th>time_id</th></tr><tr><td>i16</td><td>u32</td></tr></thead><tbody><tr><td>0</td><td>849</td></tr><tr><td>1</td><td>849</td></tr><tr><td>2</td><td>849</td></tr><tr><td>3</td><td>849</td></tr><tr><td>4</td><td>849</td></tr><tr><td>&hellip;</td><td>&hellip;</td></tr><tr><td>165</td><td>849</td></tr><tr><td>166</td><td>849</td></tr><tr><td>167</td><td>849</td></tr><tr><td>168</td><td>849</td></tr><tr><td>169</td><td>849</td></tr></tbody></table></div>"
      ],
      "text/plain": [
       "shape: (169, 2)\n",
       "┌─────────┬─────────┐\n",
       "│ date_id ┆ time_id │\n",
       "│ ---     ┆ ---     │\n",
       "│ i16     ┆ u32     │\n",
       "╞═════════╪═════════╡\n",
       "│ 0       ┆ 849     │\n",
       "│ 1       ┆ 849     │\n",
       "│ 2       ┆ 849     │\n",
       "│ 3       ┆ 849     │\n",
       "│ 4       ┆ 849     │\n",
       "│ …       ┆ …       │\n",
       "│ 165     ┆ 849     │\n",
       "│ 166     ┆ 849     │\n",
       "│ 167     ┆ 849     │\n",
       "│ 168     ┆ 849     │\n",
       "│ 169     ┆ 849     │\n",
       "└─────────┴─────────┘"
      ]
     },
     "execution_count": 25,
     "metadata": {},
     "output_type": "execute_result"
    }
   ],
   "source": [
    "df_train.filter(\n",
    "    pl.col(\"partition_id\") == 0\n",
    ").filter(\n",
    "    pl.col(\"symbol_id\") == 1\n",
    ").group_by(\n",
    "    [\"date_id\"], maintain_order=True\n",
    ").agg(\n",
    "    pl.col(\"time_id\").count()\n",
    ").collect()"
   ]
  },
  {
   "cell_type": "code",
   "execution_count": 12,
   "id": "88141182-d10c-47c5-88d4-edb4db27db41",
   "metadata": {},
   "outputs": [
    {
     "data": {
      "text/html": [
       "<div><style>\n",
       ".dataframe > thead > tr,\n",
       ".dataframe > tbody > tr {\n",
       "  text-align: right;\n",
       "  white-space: pre-wrap;\n",
       "}\n",
       "</style>\n",
       "<small>shape: (39, 2)</small><table border=\"1\" class=\"dataframe\"><thead><tr><th>symbol_id</th><th>date_id</th></tr><tr><td>i8</td><td>u32</td></tr></thead><tbody><tr><td>0</td><td>1468466</td></tr><tr><td>1</td><td>1543979</td></tr><tr><td>2</td><td>1484398</td></tr><tr><td>3</td><td>1446495</td></tr><tr><td>4</td><td>683408</td></tr><tr><td>&hellip;</td><td>&hellip;</td></tr><tr><td>34</td><td>1465720</td></tr><tr><td>35</td><td>911856</td></tr><tr><td>36</td><td>1139720</td></tr><tr><td>37</td><td>942832</td></tr><tr><td>38</td><td>1478146</td></tr></tbody></table></div>"
      ],
      "text/plain": [
       "shape: (39, 2)\n",
       "┌───────────┬─────────┐\n",
       "│ symbol_id ┆ date_id │\n",
       "│ ---       ┆ ---     │\n",
       "│ i8        ┆ u32     │\n",
       "╞═══════════╪═════════╡\n",
       "│ 0         ┆ 1468466 │\n",
       "│ 1         ┆ 1543979 │\n",
       "│ 2         ┆ 1484398 │\n",
       "│ 3         ┆ 1446495 │\n",
       "│ 4         ┆ 683408  │\n",
       "│ …         ┆ …       │\n",
       "│ 34        ┆ 1465720 │\n",
       "│ 35        ┆ 911856  │\n",
       "│ 36        ┆ 1139720 │\n",
       "│ 37        ┆ 942832  │\n",
       "│ 38        ┆ 1478146 │\n",
       "└───────────┴─────────┘"
      ]
     },
     "execution_count": 12,
     "metadata": {},
     "output_type": "execute_result"
    }
   ],
   "source": [
    "df_train.group_by(\n",
    "    [\"symbol_id\"], maintain_order=True\n",
    ").agg(\n",
    "    pl.col(\"date_id\").count()\n",
    ").sort(\n",
    "    pl.col(\"symbol_id\")\n",
    ").collect()"
   ]
  },
  {
   "cell_type": "code",
   "execution_count": 8,
   "id": "d52aca82-44c4-4e91-8a18-3199f579b196",
   "metadata": {},
   "outputs": [
    {
     "data": {
      "text/html": [
       "<div><style>\n",
       ".dataframe > thead > tr,\n",
       ".dataframe > tbody > tr {\n",
       "  text-align: right;\n",
       "  white-space: pre-wrap;\n",
       "}\n",
       "</style>\n",
       "<small>shape: (1, 1)</small><table border=\"1\" class=\"dataframe\"><thead><tr><th>date_id</th></tr><tr><td>u32</td></tr></thead><tbody><tr><td>1699</td></tr></tbody></table></div>"
      ],
      "text/plain": [
       "shape: (1, 1)\n",
       "┌─────────┐\n",
       "│ date_id │\n",
       "│ ---     │\n",
       "│ u32     │\n",
       "╞═════════╡\n",
       "│ 1699    │\n",
       "└─────────┘"
      ]
     },
     "execution_count": 8,
     "metadata": {},
     "output_type": "execute_result"
    }
   ],
   "source": [
    "df_train.select(\n",
    "    pl.col(\"date_id\").n_unique()\n",
    ").collect()"
   ]
  },
  {
   "cell_type": "code",
   "execution_count": 9,
   "id": "8445228a-ec91-48c3-bd89-f80229ab89a9",
   "metadata": {},
   "outputs": [
    {
     "data": {
      "text/plain": [
       "7.079166666666667"
      ]
     },
     "execution_count": 9,
     "metadata": {},
     "output_type": "execute_result"
    }
   ],
   "source": [
    "1699 / 240"
   ]
  },
  {
   "cell_type": "code",
   "execution_count": null,
   "id": "49867728-4529-4360-9a26-e5b90c400960",
   "metadata": {},
   "outputs": [],
   "source": [
    "df_train.select(\n",
    "    pds.query_lstsq_report(\n",
    "        pl.col(\"feature_05\"), pl.col(\"feature_06\"), pl.col(\"feature_07\"),\n",
    "        target = pl.col(\"responder_6\"),\n",
    "        add_bias = True,\n",
    "    ).alias(\"report\")\n",
    ").unnest(\"report\").collect()"
   ]
  },
  {
   "cell_type": "code",
   "execution_count": null,
   "id": "457a8af1-82da-4825-b433-5b8dcae8b832",
   "metadata": {},
   "outputs": [],
   "source": []
  },
  {
   "cell_type": "code",
   "execution_count": null,
   "id": "072fc73e-0580-4cc7-840f-2d39bce6bbf5",
   "metadata": {},
   "outputs": [],
   "source": []
  },
  {
   "cell_type": "code",
   "execution_count": 12,
   "id": "9e3b70ad-dda0-4037-91c5-7ee7aef12fb6",
   "metadata": {},
   "outputs": [
    {
     "data": {
      "text/plain": [
       "Schema([('date_id', Int16),\n",
       "        ('time_id', Int16),\n",
       "        ('symbol_id', Int8),\n",
       "        ('weight', Float32),\n",
       "        ('feature_00', Float32),\n",
       "        ('feature_01', Float32),\n",
       "        ('feature_02', Float32),\n",
       "        ('feature_03', Float32),\n",
       "        ('feature_04', Float32),\n",
       "        ('feature_05', Float32),\n",
       "        ('feature_06', Float32),\n",
       "        ('feature_07', Float32),\n",
       "        ('feature_08', Float32),\n",
       "        ('feature_09', Int8),\n",
       "        ('feature_10', Int8),\n",
       "        ('feature_11', Int16),\n",
       "        ('feature_12', Float32),\n",
       "        ('feature_13', Float32),\n",
       "        ('feature_14', Float32),\n",
       "        ('feature_15', Float32),\n",
       "        ('feature_16', Float32),\n",
       "        ('feature_17', Float32),\n",
       "        ('feature_18', Float32),\n",
       "        ('feature_19', Float32),\n",
       "        ('feature_20', Float32),\n",
       "        ('feature_21', Float32),\n",
       "        ('feature_22', Float32),\n",
       "        ('feature_23', Float32),\n",
       "        ('feature_24', Float32),\n",
       "        ('feature_25', Float32),\n",
       "        ('feature_26', Float32),\n",
       "        ('feature_27', Float32),\n",
       "        ('feature_28', Float32),\n",
       "        ('feature_29', Float32),\n",
       "        ('feature_30', Float32),\n",
       "        ('feature_31', Float32),\n",
       "        ('feature_32', Float32),\n",
       "        ('feature_33', Float32),\n",
       "        ('feature_34', Float32),\n",
       "        ('feature_35', Float32),\n",
       "        ('feature_36', Float32),\n",
       "        ('feature_37', Float32),\n",
       "        ('feature_38', Float32),\n",
       "        ('feature_39', Float32),\n",
       "        ('feature_40', Float32),\n",
       "        ('feature_41', Float32),\n",
       "        ('feature_42', Float32),\n",
       "        ('feature_43', Float32),\n",
       "        ('feature_44', Float32),\n",
       "        ('feature_45', Float32),\n",
       "        ('feature_46', Float32),\n",
       "        ('feature_47', Float32),\n",
       "        ('feature_48', Float32),\n",
       "        ('feature_49', Float32),\n",
       "        ('feature_50', Float32),\n",
       "        ('feature_51', Float32),\n",
       "        ('feature_52', Float32),\n",
       "        ('feature_53', Float32),\n",
       "        ('feature_54', Float32),\n",
       "        ('feature_55', Float32),\n",
       "        ('feature_56', Float32),\n",
       "        ('feature_57', Float32),\n",
       "        ('feature_58', Float32),\n",
       "        ('feature_59', Float32),\n",
       "        ('feature_60', Float32),\n",
       "        ('feature_61', Float32),\n",
       "        ('feature_62', Float32),\n",
       "        ('feature_63', Float32),\n",
       "        ('feature_64', Float32),\n",
       "        ('feature_65', Float32),\n",
       "        ('feature_66', Float32),\n",
       "        ('feature_67', Float32),\n",
       "        ('feature_68', Float32),\n",
       "        ('feature_69', Float32),\n",
       "        ('feature_70', Float32),\n",
       "        ('feature_71', Float32),\n",
       "        ('feature_72', Float32),\n",
       "        ('feature_73', Float32),\n",
       "        ('feature_74', Float32),\n",
       "        ('feature_75', Float32),\n",
       "        ('feature_76', Float32),\n",
       "        ('feature_77', Float32),\n",
       "        ('feature_78', Float32),\n",
       "        ('responder_0', Float32),\n",
       "        ('responder_1', Float32),\n",
       "        ('responder_2', Float32),\n",
       "        ('responder_3', Float32),\n",
       "        ('responder_4', Float32),\n",
       "        ('responder_5', Float32),\n",
       "        ('responder_6', Float32),\n",
       "        ('responder_7', Float32),\n",
       "        ('responder_8', Float32),\n",
       "        ('partition_id', Int64)])"
      ]
     },
     "execution_count": 12,
     "metadata": {},
     "output_type": "execute_result"
    }
   ],
   "source": [
    "df_train.collect_schema()"
   ]
  },
  {
   "cell_type": "code",
   "execution_count": null,
   "id": "62618708-4139-4fce-ab98-c3c4e2ddf835",
   "metadata": {},
   "outputs": [],
   "source": []
  },
  {
   "cell_type": "code",
   "execution_count": 9,
   "id": "31f2e885-d4e8-46d9-8424-a90d353f77d2",
   "metadata": {},
   "outputs": [],
   "source": [
    "df_test = pl.scan_parquet(\"data/test.parquet\")"
   ]
  },
  {
   "cell_type": "code",
   "execution_count": 10,
   "id": "ef3464e2-2429-42a9-bef3-8fcadf15647a",
   "metadata": {},
   "outputs": [
    {
     "data": {
      "text/html": [
       "<div><style>\n",
       ".dataframe > thead > tr,\n",
       ".dataframe > tbody > tr {\n",
       "  text-align: right;\n",
       "  white-space: pre-wrap;\n",
       "}\n",
       "</style>\n",
       "<small>shape: (5, 85)</small><table border=\"1\" class=\"dataframe\"><thead><tr><th>row_id</th><th>date_id</th><th>time_id</th><th>symbol_id</th><th>weight</th><th>is_scored</th><th>feature_00</th><th>feature_01</th><th>feature_02</th><th>feature_03</th><th>feature_04</th><th>feature_05</th><th>feature_06</th><th>feature_07</th><th>feature_08</th><th>feature_09</th><th>feature_10</th><th>feature_11</th><th>feature_12</th><th>feature_13</th><th>feature_14</th><th>feature_15</th><th>feature_16</th><th>feature_17</th><th>feature_18</th><th>feature_19</th><th>feature_20</th><th>feature_21</th><th>feature_22</th><th>feature_23</th><th>feature_24</th><th>feature_25</th><th>feature_26</th><th>feature_27</th><th>feature_28</th><th>feature_29</th><th>feature_30</th><th>&hellip;</th><th>feature_42</th><th>feature_43</th><th>feature_44</th><th>feature_45</th><th>feature_46</th><th>feature_47</th><th>feature_48</th><th>feature_49</th><th>feature_50</th><th>feature_51</th><th>feature_52</th><th>feature_53</th><th>feature_54</th><th>feature_55</th><th>feature_56</th><th>feature_57</th><th>feature_58</th><th>feature_59</th><th>feature_60</th><th>feature_61</th><th>feature_62</th><th>feature_63</th><th>feature_64</th><th>feature_65</th><th>feature_66</th><th>feature_67</th><th>feature_68</th><th>feature_69</th><th>feature_70</th><th>feature_71</th><th>feature_72</th><th>feature_73</th><th>feature_74</th><th>feature_75</th><th>feature_76</th><th>feature_77</th><th>feature_78</th></tr><tr><td>i64</td><td>i16</td><td>i16</td><td>i8</td><td>f32</td><td>bool</td><td>f32</td><td>f32</td><td>f32</td><td>f32</td><td>f32</td><td>f32</td><td>f32</td><td>f32</td><td>f32</td><td>f64</td><td>f64</td><td>f64</td><td>f32</td><td>f32</td><td>f32</td><td>f32</td><td>f32</td><td>f32</td><td>f32</td><td>f32</td><td>f32</td><td>f32</td><td>f32</td><td>f32</td><td>f32</td><td>f32</td><td>f32</td><td>f32</td><td>f32</td><td>f32</td><td>f32</td><td>&hellip;</td><td>f32</td><td>f32</td><td>f32</td><td>f32</td><td>f32</td><td>f32</td><td>f32</td><td>f32</td><td>f32</td><td>f32</td><td>f32</td><td>f32</td><td>f32</td><td>f32</td><td>f32</td><td>f32</td><td>f32</td><td>f32</td><td>f32</td><td>f32</td><td>f32</td><td>f32</td><td>f32</td><td>f32</td><td>f32</td><td>f32</td><td>f32</td><td>f32</td><td>f32</td><td>f32</td><td>f32</td><td>f32</td><td>f32</td><td>f32</td><td>f32</td><td>f32</td><td>f32</td></tr></thead><tbody><tr><td>0</td><td>0</td><td>0</td><td>0</td><td>3.169998</td><td>true</td><td>0.0</td><td>0.0</td><td>0.0</td><td>0.0</td><td>0.0</td><td>-0.0</td><td>-0.0</td><td>-0.0</td><td>0.0</td><td>0.0</td><td>0.0</td><td>0.0</td><td>-0.0</td><td>0.0</td><td>0.0</td><td>null</td><td>-0.0</td><td>null</td><td>-0.0</td><td>-0.0</td><td>0.0</td><td>-0.0</td><td>0.0</td><td>0.0</td><td>0.0</td><td>0.0</td><td>0.0</td><td>0.0</td><td>0.0</td><td>-0.0</td><td>-0.0</td><td>&hellip;</td><td>null</td><td>-0.0</td><td>null</td><td>-0.0</td><td>0.0</td><td>-0.0</td><td>0.0</td><td>0.0</td><td>null</td><td>0.0</td><td>null</td><td>null</td><td>-0.0</td><td>null</td><td>-0.0</td><td>0.0</td><td>null</td><td>0.0</td><td>0.0</td><td>-0.0</td><td>-0.0</td><td>-0.0</td><td>-0.0</td><td>-0.0</td><td>-0.0</td><td>-0.0</td><td>0.0</td><td>-0.0</td><td>-0.0</td><td>0.0</td><td>0.0</td><td>null</td><td>null</td><td>0.0</td><td>0.0</td><td>-0.0</td><td>-0.0</td></tr><tr><td>1</td><td>0</td><td>0</td><td>1</td><td>2.165993</td><td>true</td><td>0.0</td><td>-0.0</td><td>0.0</td><td>0.0</td><td>0.0</td><td>-0.0</td><td>-0.0</td><td>-0.0</td><td>0.0</td><td>0.0</td><td>0.0</td><td>0.0</td><td>-0.0</td><td>0.0</td><td>-0.0</td><td>null</td><td>-0.0</td><td>null</td><td>-0.0</td><td>-0.0</td><td>0.0</td><td>-0.0</td><td>0.0</td><td>0.0</td><td>0.0</td><td>0.0</td><td>-0.0</td><td>0.0</td><td>0.0</td><td>-0.0</td><td>-0.0</td><td>&hellip;</td><td>null</td><td>-0.0</td><td>null</td><td>-0.0</td><td>0.0</td><td>0.0</td><td>0.0</td><td>0.0</td><td>null</td><td>0.0</td><td>null</td><td>null</td><td>-0.0</td><td>null</td><td>-0.0</td><td>0.0</td><td>null</td><td>0.0</td><td>0.0</td><td>-0.0</td><td>-0.0</td><td>-0.0</td><td>-0.0</td><td>-0.0</td><td>-0.0</td><td>-0.0</td><td>0.0</td><td>-0.0</td><td>-0.0</td><td>0.0</td><td>-0.0</td><td>null</td><td>null</td><td>0.0</td><td>0.0</td><td>0.0</td><td>0.0</td></tr><tr><td>2</td><td>0</td><td>0</td><td>2</td><td>3.06555</td><td>true</td><td>0.0</td><td>-0.0</td><td>0.0</td><td>0.0</td><td>0.0</td><td>-0.0</td><td>-0.0</td><td>-0.0</td><td>0.0</td><td>0.0</td><td>0.0</td><td>0.0</td><td>-0.0</td><td>0.0</td><td>0.0</td><td>null</td><td>-0.0</td><td>null</td><td>-0.0</td><td>-0.0</td><td>0.0</td><td>-0.0</td><td>0.0</td><td>0.0</td><td>0.0</td><td>-0.0</td><td>0.0</td><td>0.0</td><td>0.0</td><td>-0.0</td><td>-0.0</td><td>&hellip;</td><td>null</td><td>-0.0</td><td>null</td><td>-0.0</td><td>0.0</td><td>-0.0</td><td>-0.0</td><td>-0.0</td><td>null</td><td>0.0</td><td>null</td><td>null</td><td>-0.0</td><td>null</td><td>-0.0</td><td>0.0</td><td>null</td><td>-0.0</td><td>-0.0</td><td>-0.0</td><td>0.0</td><td>-0.0</td><td>-0.0</td><td>-0.0</td><td>-0.0</td><td>-0.0</td><td>0.0</td><td>0.0</td><td>-0.0</td><td>0.0</td><td>0.0</td><td>null</td><td>null</td><td>0.0</td><td>0.0</td><td>-0.0</td><td>-0.0</td></tr><tr><td>3</td><td>0</td><td>0</td><td>3</td><td>2.698642</td><td>true</td><td>0.0</td><td>0.0</td><td>0.0</td><td>0.0</td><td>0.0</td><td>-0.0</td><td>-0.0</td><td>-0.0</td><td>0.0</td><td>0.0</td><td>0.0</td><td>0.0</td><td>-0.0</td><td>0.0</td><td>0.0</td><td>null</td><td>-0.0</td><td>null</td><td>-0.0</td><td>-0.0</td><td>-0.0</td><td>-0.0</td><td>0.0</td><td>0.0</td><td>-0.0</td><td>-0.0</td><td>-0.0</td><td>-0.0</td><td>-0.0</td><td>-0.0</td><td>-0.0</td><td>&hellip;</td><td>null</td><td>-0.0</td><td>null</td><td>-0.0</td><td>0.0</td><td>-0.0</td><td>0.0</td><td>-0.0</td><td>null</td><td>-0.0</td><td>null</td><td>null</td><td>-0.0</td><td>null</td><td>-0.0</td><td>0.0</td><td>null</td><td>-0.0</td><td>-0.0</td><td>-0.0</td><td>-0.0</td><td>-0.0</td><td>-0.0</td><td>-0.0</td><td>-0.0</td><td>-0.0</td><td>0.0</td><td>0.0</td><td>-0.0</td><td>0.0</td><td>0.0</td><td>null</td><td>null</td><td>0.0</td><td>0.0</td><td>-0.0</td><td>-0.0</td></tr><tr><td>4</td><td>0</td><td>0</td><td>4</td><td>1.80333</td><td>true</td><td>0.0</td><td>-0.0</td><td>0.0</td><td>0.0</td><td>0.0</td><td>-0.0</td><td>-0.0</td><td>-0.0</td><td>0.0</td><td>0.0</td><td>0.0</td><td>0.0</td><td>-0.0</td><td>0.0</td><td>-0.0</td><td>null</td><td>-0.0</td><td>null</td><td>-0.0</td><td>-0.0</td><td>-0.0</td><td>0.0</td><td>0.0</td><td>0.0</td><td>0.0</td><td>0.0</td><td>-0.0</td><td>-0.0</td><td>-0.0</td><td>-0.0</td><td>-0.0</td><td>&hellip;</td><td>null</td><td>-0.0</td><td>null</td><td>-0.0</td><td>0.0</td><td>0.0</td><td>0.0</td><td>0.0</td><td>null</td><td>0.0</td><td>null</td><td>null</td><td>-0.0</td><td>null</td><td>-0.0</td><td>0.0</td><td>null</td><td>-0.0</td><td>-0.0</td><td>-0.0</td><td>-0.0</td><td>-0.0</td><td>-0.0</td><td>-0.0</td><td>-0.0</td><td>-0.0</td><td>0.0</td><td>-0.0</td><td>-0.0</td><td>0.0</td><td>-0.0</td><td>null</td><td>null</td><td>0.0</td><td>0.0</td><td>0.0</td><td>0.0</td></tr></tbody></table></div>"
      ],
      "text/plain": [
       "shape: (5, 85)\n",
       "┌────────┬─────────┬─────────┬───────────┬───┬────────────┬────────────┬────────────┬────────────┐\n",
       "│ row_id ┆ date_id ┆ time_id ┆ symbol_id ┆ … ┆ feature_75 ┆ feature_76 ┆ feature_77 ┆ feature_78 │\n",
       "│ ---    ┆ ---     ┆ ---     ┆ ---       ┆   ┆ ---        ┆ ---        ┆ ---        ┆ ---        │\n",
       "│ i64    ┆ i16     ┆ i16     ┆ i8        ┆   ┆ f32        ┆ f32        ┆ f32        ┆ f32        │\n",
       "╞════════╪═════════╪═════════╪═══════════╪═══╪════════════╪════════════╪════════════╪════════════╡\n",
       "│ 0      ┆ 0       ┆ 0       ┆ 0         ┆ … ┆ 0.0        ┆ 0.0        ┆ -0.0       ┆ -0.0       │\n",
       "│ 1      ┆ 0       ┆ 0       ┆ 1         ┆ … ┆ 0.0        ┆ 0.0        ┆ 0.0        ┆ 0.0        │\n",
       "│ 2      ┆ 0       ┆ 0       ┆ 2         ┆ … ┆ 0.0        ┆ 0.0        ┆ -0.0       ┆ -0.0       │\n",
       "│ 3      ┆ 0       ┆ 0       ┆ 3         ┆ … ┆ 0.0        ┆ 0.0        ┆ -0.0       ┆ -0.0       │\n",
       "│ 4      ┆ 0       ┆ 0       ┆ 4         ┆ … ┆ 0.0        ┆ 0.0        ┆ 0.0        ┆ 0.0        │\n",
       "└────────┴─────────┴─────────┴───────────┴───┴────────────┴────────────┴────────────┴────────────┘"
      ]
     },
     "execution_count": 10,
     "metadata": {},
     "output_type": "execute_result"
    }
   ],
   "source": [
    "df_test.head().collect()"
   ]
  },
  {
   "cell_type": "code",
   "execution_count": 13,
   "id": "c1db95b1-c1dc-4aba-8d86-ab450fbafc5d",
   "metadata": {},
   "outputs": [],
   "source": [
    "df_lags = pl.scan_parquet(\"data/lags.parquet\")"
   ]
  },
  {
   "cell_type": "code",
   "execution_count": 14,
   "id": "f3e0967c-17da-4a93-9765-748005658845",
   "metadata": {},
   "outputs": [
    {
     "data": {
      "text/plain": [
       "Schema([('date_id', Int16),\n",
       "        ('time_id', Int16),\n",
       "        ('symbol_id', Int8),\n",
       "        ('responder_0_lag_1', Float32),\n",
       "        ('responder_1_lag_1', Float32),\n",
       "        ('responder_2_lag_1', Float32),\n",
       "        ('responder_3_lag_1', Float32),\n",
       "        ('responder_4_lag_1', Float32),\n",
       "        ('responder_5_lag_1', Float32),\n",
       "        ('responder_6_lag_1', Float32),\n",
       "        ('responder_7_lag_1', Float32),\n",
       "        ('responder_8_lag_1', Float32)])"
      ]
     },
     "execution_count": 14,
     "metadata": {},
     "output_type": "execute_result"
    }
   ],
   "source": [
    "df_lags.collect_schema()"
   ]
  },
  {
   "cell_type": "code",
   "execution_count": 15,
   "id": "fb86db06-e637-4847-98e5-08f77fee2cf0",
   "metadata": {},
   "outputs": [
    {
     "data": {
      "text/html": [
       "<div><style>\n",
       ".dataframe > thead > tr,\n",
       ".dataframe > tbody > tr {\n",
       "  text-align: right;\n",
       "  white-space: pre-wrap;\n",
       "}\n",
       "</style>\n",
       "<small>shape: (5, 12)</small><table border=\"1\" class=\"dataframe\"><thead><tr><th>date_id</th><th>time_id</th><th>symbol_id</th><th>responder_0_lag_1</th><th>responder_1_lag_1</th><th>responder_2_lag_1</th><th>responder_3_lag_1</th><th>responder_4_lag_1</th><th>responder_5_lag_1</th><th>responder_6_lag_1</th><th>responder_7_lag_1</th><th>responder_8_lag_1</th></tr><tr><td>i16</td><td>i16</td><td>i8</td><td>f32</td><td>f32</td><td>f32</td><td>f32</td><td>f32</td><td>f32</td><td>f32</td><td>f32</td><td>f32</td></tr></thead><tbody><tr><td>0</td><td>0</td><td>0</td><td>-0.442215</td><td>-0.322407</td><td>0.143594</td><td>-0.92689</td><td>-0.782236</td><td>-0.036595</td><td>-1.305746</td><td>-0.795677</td><td>-0.143724</td></tr><tr><td>0</td><td>0</td><td>1</td><td>-0.651829</td><td>-1.70784</td><td>-0.893942</td><td>-1.065488</td><td>-1.871338</td><td>-0.615652</td><td>-1.162801</td><td>-1.205924</td><td>-1.245934</td></tr><tr><td>0</td><td>0</td><td>2</td><td>-0.656373</td><td>-0.264575</td><td>-0.892879</td><td>-1.511886</td><td>-1.03348</td><td>-0.378265</td><td>-1.57429</td><td>-1.863071</td><td>-0.027343</td></tr><tr><td>0</td><td>0</td><td>3</td><td>-0.188186</td><td>-0.19097</td><td>-0.70149</td><td>0.098453</td><td>-1.015506</td><td>-0.054984</td><td>0.329152</td><td>-0.965471</td><td>0.576635</td></tr><tr><td>0</td><td>0</td><td>4</td><td>-0.257462</td><td>-0.471325</td><td>-0.29742</td><td>0.074018</td><td>-0.324194</td><td>-0.597093</td><td>0.219856</td><td>-0.276356</td><td>-0.90479</td></tr></tbody></table></div>"
      ],
      "text/plain": [
       "shape: (5, 12)\n",
       "┌─────────┬─────────┬───────────┬────────────┬───┬────────────┬────────────┬───────────┬───────────┐\n",
       "│ date_id ┆ time_id ┆ symbol_id ┆ responder_ ┆ … ┆ responder_ ┆ responder_ ┆ responder ┆ responder │\n",
       "│ ---     ┆ ---     ┆ ---       ┆ 0_lag_1    ┆   ┆ 5_lag_1    ┆ 6_lag_1    ┆ _7_lag_1  ┆ _8_lag_1  │\n",
       "│ i16     ┆ i16     ┆ i8        ┆ ---        ┆   ┆ ---        ┆ ---        ┆ ---       ┆ ---       │\n",
       "│         ┆         ┆           ┆ f32        ┆   ┆ f32        ┆ f32        ┆ f32       ┆ f32       │\n",
       "╞═════════╪═════════╪═══════════╪════════════╪═══╪════════════╪════════════╪═══════════╪═══════════╡\n",
       "│ 0       ┆ 0       ┆ 0         ┆ -0.442215  ┆ … ┆ -0.036595  ┆ -1.305746  ┆ -0.795677 ┆ -0.143724 │\n",
       "│ 0       ┆ 0       ┆ 1         ┆ -0.651829  ┆ … ┆ -0.615652  ┆ -1.162801  ┆ -1.205924 ┆ -1.245934 │\n",
       "│ 0       ┆ 0       ┆ 2         ┆ -0.656373  ┆ … ┆ -0.378265  ┆ -1.57429   ┆ -1.863071 ┆ -0.027343 │\n",
       "│ 0       ┆ 0       ┆ 3         ┆ -0.188186  ┆ … ┆ -0.054984  ┆ 0.329152   ┆ -0.965471 ┆ 0.576635  │\n",
       "│ 0       ┆ 0       ┆ 4         ┆ -0.257462  ┆ … ┆ -0.597093  ┆ 0.219856   ┆ -0.276356 ┆ -0.90479  │\n",
       "└─────────┴─────────┴───────────┴────────────┴───┴────────────┴────────────┴───────────┴───────────┘"
      ]
     },
     "execution_count": 15,
     "metadata": {},
     "output_type": "execute_result"
    }
   ],
   "source": [
    "df_lags.head().collect()"
   ]
  },
  {
   "cell_type": "code",
   "execution_count": 16,
   "id": "a9c62e32-043d-4824-abe0-c3fd42ca78a2",
   "metadata": {},
   "outputs": [],
   "source": [
    "df = pl.read_parquet(\"submission.parquet\")"
   ]
  },
  {
   "cell_type": "code",
   "execution_count": 17,
   "id": "4743fc6b-4a19-47b5-937d-add4f6b11751",
   "metadata": {},
   "outputs": [
    {
     "data": {
      "text/html": [
       "<div><style>\n",
       ".dataframe > thead > tr,\n",
       ".dataframe > tbody > tr {\n",
       "  text-align: right;\n",
       "  white-space: pre-wrap;\n",
       "}\n",
       "</style>\n",
       "<small>shape: (39, 2)</small><table border=\"1\" class=\"dataframe\"><thead><tr><th>row_id</th><th>responder_6</th></tr><tr><td>i64</td><td>f64</td></tr></thead><tbody><tr><td>0</td><td>0.0</td></tr><tr><td>1</td><td>0.0</td></tr><tr><td>2</td><td>0.0</td></tr><tr><td>3</td><td>0.0</td></tr><tr><td>4</td><td>0.0</td></tr><tr><td>&hellip;</td><td>&hellip;</td></tr><tr><td>34</td><td>0.0</td></tr><tr><td>35</td><td>0.0</td></tr><tr><td>36</td><td>0.0</td></tr><tr><td>37</td><td>0.0</td></tr><tr><td>38</td><td>0.0</td></tr></tbody></table></div>"
      ],
      "text/plain": [
       "shape: (39, 2)\n",
       "┌────────┬─────────────┐\n",
       "│ row_id ┆ responder_6 │\n",
       "│ ---    ┆ ---         │\n",
       "│ i64    ┆ f64         │\n",
       "╞════════╪═════════════╡\n",
       "│ 0      ┆ 0.0         │\n",
       "│ 1      ┆ 0.0         │\n",
       "│ 2      ┆ 0.0         │\n",
       "│ 3      ┆ 0.0         │\n",
       "│ 4      ┆ 0.0         │\n",
       "│ …      ┆ …           │\n",
       "│ 34     ┆ 0.0         │\n",
       "│ 35     ┆ 0.0         │\n",
       "│ 36     ┆ 0.0         │\n",
       "│ 37     ┆ 0.0         │\n",
       "│ 38     ┆ 0.0         │\n",
       "└────────┴─────────────┘"
      ]
     },
     "execution_count": 17,
     "metadata": {},
     "output_type": "execute_result"
    }
   ],
   "source": [
    "df"
   ]
  },
  {
   "cell_type": "code",
   "execution_count": null,
   "id": "2490ed6a-bfe3-4523-bf78-da0fc2c2c2dd",
   "metadata": {},
   "outputs": [],
   "source": []
  }
 ],
 "metadata": {
  "kernelspec": {
   "display_name": "jane",
   "language": "python",
   "name": "jane"
  },
  "language_info": {
   "codemirror_mode": {
    "name": "ipython",
    "version": 3
   },
   "file_extension": ".py",
   "mimetype": "text/x-python",
   "name": "python",
   "nbconvert_exporter": "python",
   "pygments_lexer": "ipython3",
   "version": "3.10.15"
  }
 },
 "nbformat": 4,
 "nbformat_minor": 5
}
