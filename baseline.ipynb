{
 "cells": [
  {
   "cell_type": "code",
   "execution_count": 1,
   "id": "ce0d9f51-0787-493b-9ebf-9f6ec54dff73",
   "metadata": {},
   "outputs": [],
   "source": [
    "import os\n",
    "import polars as pl\n",
    "import polars_ds as pds\n",
    "import lightgbm as lgbm\n",
    "import xgboost as xgb"
   ]
  },
  {
   "cell_type": "code",
   "execution_count": 2,
   "id": "e6cd32ca",
   "metadata": {},
   "outputs": [],
   "source": [
    "plan_train = pl.scan_parquet(\"data/train.parquet\")\n",
    "plan_test = pl.scan_parquet(\"data/test.parquet\")"
   ]
  },
  {
   "cell_type": "code",
   "execution_count": 3,
   "id": "055412fa",
   "metadata": {},
   "outputs": [
    {
     "data": {
      "text/html": [
       "<div><style>\n",
       ".dataframe > thead > tr,\n",
       ".dataframe > tbody > tr {\n",
       "  text-align: right;\n",
       "  white-space: pre-wrap;\n",
       "}\n",
       "</style>\n",
       "<small>shape: (5, 85)</small><table border=\"1\" class=\"dataframe\"><thead><tr><th>row_id</th><th>date_id</th><th>time_id</th><th>symbol_id</th><th>weight</th><th>is_scored</th><th>feature_00</th><th>feature_01</th><th>feature_02</th><th>feature_03</th><th>feature_04</th><th>feature_05</th><th>feature_06</th><th>feature_07</th><th>feature_08</th><th>feature_09</th><th>feature_10</th><th>feature_11</th><th>feature_12</th><th>feature_13</th><th>feature_14</th><th>feature_15</th><th>feature_16</th><th>feature_17</th><th>feature_18</th><th>feature_19</th><th>feature_20</th><th>feature_21</th><th>feature_22</th><th>feature_23</th><th>feature_24</th><th>feature_25</th><th>feature_26</th><th>feature_27</th><th>feature_28</th><th>feature_29</th><th>feature_30</th><th>&hellip;</th><th>feature_42</th><th>feature_43</th><th>feature_44</th><th>feature_45</th><th>feature_46</th><th>feature_47</th><th>feature_48</th><th>feature_49</th><th>feature_50</th><th>feature_51</th><th>feature_52</th><th>feature_53</th><th>feature_54</th><th>feature_55</th><th>feature_56</th><th>feature_57</th><th>feature_58</th><th>feature_59</th><th>feature_60</th><th>feature_61</th><th>feature_62</th><th>feature_63</th><th>feature_64</th><th>feature_65</th><th>feature_66</th><th>feature_67</th><th>feature_68</th><th>feature_69</th><th>feature_70</th><th>feature_71</th><th>feature_72</th><th>feature_73</th><th>feature_74</th><th>feature_75</th><th>feature_76</th><th>feature_77</th><th>feature_78</th></tr><tr><td>i64</td><td>i16</td><td>i16</td><td>i8</td><td>f32</td><td>bool</td><td>f32</td><td>f32</td><td>f32</td><td>f32</td><td>f32</td><td>f32</td><td>f32</td><td>f32</td><td>f32</td><td>f64</td><td>f64</td><td>f64</td><td>f32</td><td>f32</td><td>f32</td><td>f32</td><td>f32</td><td>f32</td><td>f32</td><td>f32</td><td>f32</td><td>f32</td><td>f32</td><td>f32</td><td>f32</td><td>f32</td><td>f32</td><td>f32</td><td>f32</td><td>f32</td><td>f32</td><td>&hellip;</td><td>f32</td><td>f32</td><td>f32</td><td>f32</td><td>f32</td><td>f32</td><td>f32</td><td>f32</td><td>f32</td><td>f32</td><td>f32</td><td>f32</td><td>f32</td><td>f32</td><td>f32</td><td>f32</td><td>f32</td><td>f32</td><td>f32</td><td>f32</td><td>f32</td><td>f32</td><td>f32</td><td>f32</td><td>f32</td><td>f32</td><td>f32</td><td>f32</td><td>f32</td><td>f32</td><td>f32</td><td>f32</td><td>f32</td><td>f32</td><td>f32</td><td>f32</td><td>f32</td></tr></thead><tbody><tr><td>0</td><td>0</td><td>0</td><td>0</td><td>3.169998</td><td>true</td><td>0.0</td><td>0.0</td><td>0.0</td><td>0.0</td><td>0.0</td><td>-0.0</td><td>-0.0</td><td>-0.0</td><td>0.0</td><td>0.0</td><td>0.0</td><td>0.0</td><td>-0.0</td><td>0.0</td><td>0.0</td><td>null</td><td>-0.0</td><td>null</td><td>-0.0</td><td>-0.0</td><td>0.0</td><td>-0.0</td><td>0.0</td><td>0.0</td><td>0.0</td><td>0.0</td><td>0.0</td><td>0.0</td><td>0.0</td><td>-0.0</td><td>-0.0</td><td>&hellip;</td><td>null</td><td>-0.0</td><td>null</td><td>-0.0</td><td>0.0</td><td>-0.0</td><td>0.0</td><td>0.0</td><td>null</td><td>0.0</td><td>null</td><td>null</td><td>-0.0</td><td>null</td><td>-0.0</td><td>0.0</td><td>null</td><td>0.0</td><td>0.0</td><td>-0.0</td><td>-0.0</td><td>-0.0</td><td>-0.0</td><td>-0.0</td><td>-0.0</td><td>-0.0</td><td>0.0</td><td>-0.0</td><td>-0.0</td><td>0.0</td><td>0.0</td><td>null</td><td>null</td><td>0.0</td><td>0.0</td><td>-0.0</td><td>-0.0</td></tr><tr><td>1</td><td>0</td><td>0</td><td>1</td><td>2.165993</td><td>true</td><td>0.0</td><td>-0.0</td><td>0.0</td><td>0.0</td><td>0.0</td><td>-0.0</td><td>-0.0</td><td>-0.0</td><td>0.0</td><td>0.0</td><td>0.0</td><td>0.0</td><td>-0.0</td><td>0.0</td><td>-0.0</td><td>null</td><td>-0.0</td><td>null</td><td>-0.0</td><td>-0.0</td><td>0.0</td><td>-0.0</td><td>0.0</td><td>0.0</td><td>0.0</td><td>0.0</td><td>-0.0</td><td>0.0</td><td>0.0</td><td>-0.0</td><td>-0.0</td><td>&hellip;</td><td>null</td><td>-0.0</td><td>null</td><td>-0.0</td><td>0.0</td><td>0.0</td><td>0.0</td><td>0.0</td><td>null</td><td>0.0</td><td>null</td><td>null</td><td>-0.0</td><td>null</td><td>-0.0</td><td>0.0</td><td>null</td><td>0.0</td><td>0.0</td><td>-0.0</td><td>-0.0</td><td>-0.0</td><td>-0.0</td><td>-0.0</td><td>-0.0</td><td>-0.0</td><td>0.0</td><td>-0.0</td><td>-0.0</td><td>0.0</td><td>-0.0</td><td>null</td><td>null</td><td>0.0</td><td>0.0</td><td>0.0</td><td>0.0</td></tr><tr><td>2</td><td>0</td><td>0</td><td>2</td><td>3.06555</td><td>true</td><td>0.0</td><td>-0.0</td><td>0.0</td><td>0.0</td><td>0.0</td><td>-0.0</td><td>-0.0</td><td>-0.0</td><td>0.0</td><td>0.0</td><td>0.0</td><td>0.0</td><td>-0.0</td><td>0.0</td><td>0.0</td><td>null</td><td>-0.0</td><td>null</td><td>-0.0</td><td>-0.0</td><td>0.0</td><td>-0.0</td><td>0.0</td><td>0.0</td><td>0.0</td><td>-0.0</td><td>0.0</td><td>0.0</td><td>0.0</td><td>-0.0</td><td>-0.0</td><td>&hellip;</td><td>null</td><td>-0.0</td><td>null</td><td>-0.0</td><td>0.0</td><td>-0.0</td><td>-0.0</td><td>-0.0</td><td>null</td><td>0.0</td><td>null</td><td>null</td><td>-0.0</td><td>null</td><td>-0.0</td><td>0.0</td><td>null</td><td>-0.0</td><td>-0.0</td><td>-0.0</td><td>0.0</td><td>-0.0</td><td>-0.0</td><td>-0.0</td><td>-0.0</td><td>-0.0</td><td>0.0</td><td>0.0</td><td>-0.0</td><td>0.0</td><td>0.0</td><td>null</td><td>null</td><td>0.0</td><td>0.0</td><td>-0.0</td><td>-0.0</td></tr><tr><td>3</td><td>0</td><td>0</td><td>3</td><td>2.698642</td><td>true</td><td>0.0</td><td>0.0</td><td>0.0</td><td>0.0</td><td>0.0</td><td>-0.0</td><td>-0.0</td><td>-0.0</td><td>0.0</td><td>0.0</td><td>0.0</td><td>0.0</td><td>-0.0</td><td>0.0</td><td>0.0</td><td>null</td><td>-0.0</td><td>null</td><td>-0.0</td><td>-0.0</td><td>-0.0</td><td>-0.0</td><td>0.0</td><td>0.0</td><td>-0.0</td><td>-0.0</td><td>-0.0</td><td>-0.0</td><td>-0.0</td><td>-0.0</td><td>-0.0</td><td>&hellip;</td><td>null</td><td>-0.0</td><td>null</td><td>-0.0</td><td>0.0</td><td>-0.0</td><td>0.0</td><td>-0.0</td><td>null</td><td>-0.0</td><td>null</td><td>null</td><td>-0.0</td><td>null</td><td>-0.0</td><td>0.0</td><td>null</td><td>-0.0</td><td>-0.0</td><td>-0.0</td><td>-0.0</td><td>-0.0</td><td>-0.0</td><td>-0.0</td><td>-0.0</td><td>-0.0</td><td>0.0</td><td>0.0</td><td>-0.0</td><td>0.0</td><td>0.0</td><td>null</td><td>null</td><td>0.0</td><td>0.0</td><td>-0.0</td><td>-0.0</td></tr><tr><td>4</td><td>0</td><td>0</td><td>4</td><td>1.80333</td><td>true</td><td>0.0</td><td>-0.0</td><td>0.0</td><td>0.0</td><td>0.0</td><td>-0.0</td><td>-0.0</td><td>-0.0</td><td>0.0</td><td>0.0</td><td>0.0</td><td>0.0</td><td>-0.0</td><td>0.0</td><td>-0.0</td><td>null</td><td>-0.0</td><td>null</td><td>-0.0</td><td>-0.0</td><td>-0.0</td><td>0.0</td><td>0.0</td><td>0.0</td><td>0.0</td><td>0.0</td><td>-0.0</td><td>-0.0</td><td>-0.0</td><td>-0.0</td><td>-0.0</td><td>&hellip;</td><td>null</td><td>-0.0</td><td>null</td><td>-0.0</td><td>0.0</td><td>0.0</td><td>0.0</td><td>0.0</td><td>null</td><td>0.0</td><td>null</td><td>null</td><td>-0.0</td><td>null</td><td>-0.0</td><td>0.0</td><td>null</td><td>-0.0</td><td>-0.0</td><td>-0.0</td><td>-0.0</td><td>-0.0</td><td>-0.0</td><td>-0.0</td><td>-0.0</td><td>-0.0</td><td>0.0</td><td>-0.0</td><td>-0.0</td><td>0.0</td><td>-0.0</td><td>null</td><td>null</td><td>0.0</td><td>0.0</td><td>0.0</td><td>0.0</td></tr></tbody></table></div>"
      ],
      "text/plain": [
       "shape: (5, 85)\n",
       "┌────────┬─────────┬─────────┬───────────┬───┬────────────┬────────────┬────────────┬────────────┐\n",
       "│ row_id ┆ date_id ┆ time_id ┆ symbol_id ┆ … ┆ feature_75 ┆ feature_76 ┆ feature_77 ┆ feature_78 │\n",
       "│ ---    ┆ ---     ┆ ---     ┆ ---       ┆   ┆ ---        ┆ ---        ┆ ---        ┆ ---        │\n",
       "│ i64    ┆ i16     ┆ i16     ┆ i8        ┆   ┆ f32        ┆ f32        ┆ f32        ┆ f32        │\n",
       "╞════════╪═════════╪═════════╪═══════════╪═══╪════════════╪════════════╪════════════╪════════════╡\n",
       "│ 0      ┆ 0       ┆ 0       ┆ 0         ┆ … ┆ 0.0        ┆ 0.0        ┆ -0.0       ┆ -0.0       │\n",
       "│ 1      ┆ 0       ┆ 0       ┆ 1         ┆ … ┆ 0.0        ┆ 0.0        ┆ 0.0        ┆ 0.0        │\n",
       "│ 2      ┆ 0       ┆ 0       ┆ 2         ┆ … ┆ 0.0        ┆ 0.0        ┆ -0.0       ┆ -0.0       │\n",
       "│ 3      ┆ 0       ┆ 0       ┆ 3         ┆ … ┆ 0.0        ┆ 0.0        ┆ -0.0       ┆ -0.0       │\n",
       "│ 4      ┆ 0       ┆ 0       ┆ 4         ┆ … ┆ 0.0        ┆ 0.0        ┆ 0.0        ┆ 0.0        │\n",
       "└────────┴─────────┴─────────┴───────────┴───┴────────────┴────────────┴────────────┴────────────┘"
      ]
     },
     "execution_count": 3,
     "metadata": {},
     "output_type": "execute_result"
    }
   ],
   "source": [
    "plan_test.head().collect()"
   ]
  },
  {
   "cell_type": "code",
   "execution_count": 4,
   "id": "5393651f",
   "metadata": {},
   "outputs": [
    {
     "data": {
      "text/html": [
       "<div><style>\n",
       ".dataframe > thead > tr,\n",
       ".dataframe > tbody > tr {\n",
       "  text-align: right;\n",
       "  white-space: pre-wrap;\n",
       "}\n",
       "</style>\n",
       "<small>shape: (1, 1)</small><table border=\"1\" class=\"dataframe\"><thead><tr><th>date_id</th></tr><tr><td>f64</td></tr></thead><tbody><tr><td>1274.25</td></tr></tbody></table></div>"
      ],
      "text/plain": [
       "shape: (1, 1)\n",
       "┌─────────┐\n",
       "│ date_id │\n",
       "│ ---     │\n",
       "│ f64     │\n",
       "╞═════════╡\n",
       "│ 1274.25 │\n",
       "└─────────┘"
      ]
     },
     "execution_count": 4,
     "metadata": {},
     "output_type": "execute_result"
    }
   ],
   "source": [
    "plan_train.select(pl.col(\"date_id\").unique().count() * 0.75).collect()"
   ]
  },
  {
   "cell_type": "code",
   "execution_count": 5,
   "id": "eeb895a6",
   "metadata": {},
   "outputs": [],
   "source": [
    "plan_train_set = plan_train.filter(pl.col(\"date_id\") <= 1275)\n",
    "plan_valid_set = plan_train.filter(pl.col(\"date_id\") > 1275)\n",
    "plan_test_set = plan_test.filter(pl.col(\"date_id\") > 1275)"
   ]
  },
  {
   "cell_type": "code",
   "execution_count": 6,
   "id": "1cf185b0",
   "metadata": {},
   "outputs": [
    {
     "data": {
      "text/html": [
       "<div><style>\n",
       ".dataframe > thead > tr,\n",
       ".dataframe > tbody > tr {\n",
       "  text-align: right;\n",
       "  white-space: pre-wrap;\n",
       "}\n",
       "</style>\n",
       "<small>shape: (5, 79)</small><table border=\"1\" class=\"dataframe\"><thead><tr><th>feature_00</th><th>feature_01</th><th>feature_02</th><th>feature_03</th><th>feature_04</th><th>feature_05</th><th>feature_06</th><th>feature_07</th><th>feature_08</th><th>feature_09</th><th>feature_10</th><th>feature_11</th><th>feature_12</th><th>feature_13</th><th>feature_14</th><th>feature_15</th><th>feature_16</th><th>feature_17</th><th>feature_18</th><th>feature_19</th><th>feature_20</th><th>feature_21</th><th>feature_22</th><th>feature_23</th><th>feature_24</th><th>feature_25</th><th>feature_26</th><th>feature_27</th><th>feature_28</th><th>feature_29</th><th>feature_30</th><th>feature_31</th><th>feature_32</th><th>feature_33</th><th>feature_34</th><th>feature_35</th><th>feature_36</th><th>&hellip;</th><th>feature_42</th><th>feature_43</th><th>feature_44</th><th>feature_45</th><th>feature_46</th><th>feature_47</th><th>feature_48</th><th>feature_49</th><th>feature_50</th><th>feature_51</th><th>feature_52</th><th>feature_53</th><th>feature_54</th><th>feature_55</th><th>feature_56</th><th>feature_57</th><th>feature_58</th><th>feature_59</th><th>feature_60</th><th>feature_61</th><th>feature_62</th><th>feature_63</th><th>feature_64</th><th>feature_65</th><th>feature_66</th><th>feature_67</th><th>feature_68</th><th>feature_69</th><th>feature_70</th><th>feature_71</th><th>feature_72</th><th>feature_73</th><th>feature_74</th><th>feature_75</th><th>feature_76</th><th>feature_77</th><th>feature_78</th></tr><tr><td>f32</td><td>f32</td><td>f32</td><td>f32</td><td>f32</td><td>f32</td><td>f32</td><td>f32</td><td>f32</td><td>i8</td><td>i8</td><td>i16</td><td>f32</td><td>f32</td><td>f32</td><td>f32</td><td>f32</td><td>f32</td><td>f32</td><td>f32</td><td>f32</td><td>f32</td><td>f32</td><td>f32</td><td>f32</td><td>f32</td><td>f32</td><td>f32</td><td>f32</td><td>f32</td><td>f32</td><td>f32</td><td>f32</td><td>f32</td><td>f32</td><td>f32</td><td>f32</td><td>&hellip;</td><td>f32</td><td>f32</td><td>f32</td><td>f32</td><td>f32</td><td>f32</td><td>f32</td><td>f32</td><td>f32</td><td>f32</td><td>f32</td><td>f32</td><td>f32</td><td>f32</td><td>f32</td><td>f32</td><td>f32</td><td>f32</td><td>f32</td><td>f32</td><td>f32</td><td>f32</td><td>f32</td><td>f32</td><td>f32</td><td>f32</td><td>f32</td><td>f32</td><td>f32</td><td>f32</td><td>f32</td><td>f32</td><td>f32</td><td>f32</td><td>f32</td><td>f32</td><td>f32</td></tr></thead><tbody><tr><td>null</td><td>null</td><td>null</td><td>null</td><td>null</td><td>0.851033</td><td>0.242971</td><td>0.2634</td><td>-0.891687</td><td>11</td><td>7</td><td>76</td><td>-0.883028</td><td>0.003067</td><td>-0.744703</td><td>null</td><td>-0.169586</td><td>null</td><td>-1.335938</td><td>-1.707803</td><td>0.91013</td><td>null</td><td>1.636431</td><td>1.522133</td><td>-1.551398</td><td>-0.229627</td><td>null</td><td>null</td><td>1.378301</td><td>-0.283712</td><td>0.123196</td><td>null</td><td>null</td><td>null</td><td>0.28118</td><td>0.269163</td><td>0.349028</td><td>&hellip;</td><td>null</td><td>-0.181716</td><td>null</td><td>null</td><td>null</td><td>0.564021</td><td>2.088506</td><td>0.832022</td><td>null</td><td>0.204797</td><td>null</td><td>null</td><td>-0.808103</td><td>null</td><td>-2.037683</td><td>0.727661</td><td>null</td><td>-0.989118</td><td>-0.345213</td><td>-1.36224</td><td>null</td><td>null</td><td>null</td><td>null</td><td>null</td><td>-1.251104</td><td>-0.110252</td><td>-0.491157</td><td>-1.02269</td><td>0.152241</td><td>-0.659864</td><td>null</td><td>null</td><td>-0.261412</td><td>-0.211486</td><td>-0.335556</td><td>-0.281498</td></tr><tr><td>null</td><td>null</td><td>null</td><td>null</td><td>null</td><td>0.676961</td><td>0.151984</td><td>0.192465</td><td>-0.521729</td><td>11</td><td>7</td><td>76</td><td>-0.865307</td><td>-0.225629</td><td>-0.582163</td><td>null</td><td>0.317467</td><td>null</td><td>-1.250016</td><td>-1.682929</td><td>1.412757</td><td>null</td><td>0.520378</td><td>0.744132</td><td>-0.788658</td><td>0.641776</td><td>null</td><td>null</td><td>0.2272</td><td>0.580907</td><td>1.128879</td><td>null</td><td>null</td><td>null</td><td>-1.512286</td><td>-1.414357</td><td>-1.823322</td><td>&hellip;</td><td>null</td><td>null</td><td>null</td><td>null</td><td>null</td><td>-10.835207</td><td>-0.002704</td><td>-0.621836</td><td>null</td><td>1.172836</td><td>null</td><td>null</td><td>-1.625862</td><td>null</td><td>-1.410017</td><td>1.063013</td><td>null</td><td>0.888355</td><td>0.467994</td><td>-1.36224</td><td>null</td><td>null</td><td>null</td><td>null</td><td>null</td><td>-1.065759</td><td>0.013322</td><td>-0.592855</td><td>-1.052685</td><td>-0.393726</td><td>-0.741603</td><td>null</td><td>null</td><td>-0.281207</td><td>-0.182894</td><td>-0.245565</td><td>-0.302441</td></tr><tr><td>null</td><td>null</td><td>null</td><td>null</td><td>null</td><td>1.056285</td><td>0.187227</td><td>0.249901</td><td>-0.77305</td><td>11</td><td>7</td><td>76</td><td>-0.675719</td><td>-0.199404</td><td>-0.586798</td><td>null</td><td>-0.814909</td><td>null</td><td>-1.296782</td><td>-2.040234</td><td>0.639589</td><td>null</td><td>1.597359</td><td>0.657514</td><td>-1.350148</td><td>0.364215</td><td>null</td><td>null</td><td>-0.017751</td><td>-0.317361</td><td>-0.122379</td><td>null</td><td>null</td><td>null</td><td>-0.320921</td><td>-0.95809</td><td>-2.436589</td><td>&hellip;</td><td>null</td><td>null</td><td>null</td><td>null</td><td>null</td><td>-1.420632</td><td>-3.515137</td><td>-4.67776</td><td>null</td><td>0.535897</td><td>null</td><td>null</td><td>-0.72542</td><td>null</td><td>-2.29417</td><td>1.764551</td><td>null</td><td>-0.120789</td><td>-0.063458</td><td>-1.36224</td><td>null</td><td>null</td><td>null</td><td>null</td><td>null</td><td>-0.882604</td><td>-0.072482</td><td>-0.617934</td><td>-0.86323</td><td>-0.241892</td><td>-0.709919</td><td>null</td><td>null</td><td>0.377131</td><td>0.300724</td><td>-0.106842</td><td>-0.096792</td></tr><tr><td>null</td><td>null</td><td>null</td><td>null</td><td>null</td><td>1.139366</td><td>0.273328</td><td>0.306549</td><td>-1.262223</td><td>42</td><td>5</td><td>150</td><td>-0.694008</td><td>3.004091</td><td>0.114809</td><td>null</td><td>-0.251882</td><td>null</td><td>-1.902009</td><td>-0.979447</td><td>0.241165</td><td>null</td><td>-0.392359</td><td>-0.224699</td><td>-2.129397</td><td>-0.855287</td><td>null</td><td>null</td><td>0.404142</td><td>-0.578156</td><td>0.105702</td><td>null</td><td>null</td><td>null</td><td>0.544138</td><td>-0.087091</td><td>-1.500147</td><td>&hellip;</td><td>null</td><td>null</td><td>null</td><td>null</td><td>null</td><td>0.382074</td><td>2.669135</td><td>0.611711</td><td>null</td><td>2.413415</td><td>null</td><td>null</td><td>1.313203</td><td>null</td><td>-0.810125</td><td>2.939022</td><td>null</td><td>3.988801</td><td>1.834661</td><td>-1.36224</td><td>null</td><td>null</td><td>null</td><td>null</td><td>null</td><td>-0.697595</td><td>1.074309</td><td>-0.206929</td><td>-0.530602</td><td>4.765215</td><td>0.571554</td><td>null</td><td>null</td><td>-0.226891</td><td>-0.251412</td><td>-0.215522</td><td>-0.296244</td></tr><tr><td>null</td><td>null</td><td>null</td><td>null</td><td>null</td><td>0.9552</td><td>0.262404</td><td>0.344457</td><td>-0.613813</td><td>44</td><td>3</td><td>16</td><td>-0.947351</td><td>-0.030018</td><td>-0.502379</td><td>null</td><td>0.646086</td><td>null</td><td>-1.844685</td><td>-1.58656</td><td>-0.182024</td><td>null</td><td>-0.969949</td><td>-0.673813</td><td>-1.282132</td><td>-1.399894</td><td>null</td><td>null</td><td>0.043815</td><td>-0.320225</td><td>-0.031713</td><td>null</td><td>null</td><td>null</td><td>-0.08842</td><td>-0.995003</td><td>-2.635336</td><td>&hellip;</td><td>null</td><td>null</td><td>null</td><td>null</td><td>null</td><td>-2.0146</td><td>-2.321076</td><td>-3.711265</td><td>null</td><td>1.253902</td><td>null</td><td>null</td><td>0.476195</td><td>null</td><td>-0.771732</td><td>2.843421</td><td>null</td><td>1.379815</td><td>0.411827</td><td>-1.36224</td><td>null</td><td>null</td><td>null</td><td>null</td><td>null</td><td>-0.948601</td><td>-0.136814</td><td>-0.447704</td><td>-1.141761</td><td>0.099631</td><td>-0.661928</td><td>null</td><td>null</td><td>3.678076</td><td>2.793581</td><td>2.61825</td><td>3.418133</td></tr></tbody></table></div>"
      ],
      "text/plain": [
       "shape: (5, 79)\n",
       "┌───────────┬───────────┬───────────┬───────────┬───┬───────────┬───────────┬───────────┬──────────┐\n",
       "│ feature_0 ┆ feature_0 ┆ feature_0 ┆ feature_0 ┆ … ┆ feature_7 ┆ feature_7 ┆ feature_7 ┆ feature_ │\n",
       "│ 0         ┆ 1         ┆ 2         ┆ 3         ┆   ┆ 5         ┆ 6         ┆ 7         ┆ 78       │\n",
       "│ ---       ┆ ---       ┆ ---       ┆ ---       ┆   ┆ ---       ┆ ---       ┆ ---       ┆ ---      │\n",
       "│ f32       ┆ f32       ┆ f32       ┆ f32       ┆   ┆ f32       ┆ f32       ┆ f32       ┆ f32      │\n",
       "╞═══════════╪═══════════╪═══════════╪═══════════╪═══╪═══════════╪═══════════╪═══════════╪══════════╡\n",
       "│ null      ┆ null      ┆ null      ┆ null      ┆ … ┆ -0.261412 ┆ -0.211486 ┆ -0.335556 ┆ -0.28149 │\n",
       "│           ┆           ┆           ┆           ┆   ┆           ┆           ┆           ┆ 8        │\n",
       "│ null      ┆ null      ┆ null      ┆ null      ┆ … ┆ -0.281207 ┆ -0.182894 ┆ -0.245565 ┆ -0.30244 │\n",
       "│           ┆           ┆           ┆           ┆   ┆           ┆           ┆           ┆ 1        │\n",
       "│ null      ┆ null      ┆ null      ┆ null      ┆ … ┆ 0.377131  ┆ 0.300724  ┆ -0.106842 ┆ -0.09679 │\n",
       "│           ┆           ┆           ┆           ┆   ┆           ┆           ┆           ┆ 2        │\n",
       "│ null      ┆ null      ┆ null      ┆ null      ┆ … ┆ -0.226891 ┆ -0.251412 ┆ -0.215522 ┆ -0.29624 │\n",
       "│           ┆           ┆           ┆           ┆   ┆           ┆           ┆           ┆ 4        │\n",
       "│ null      ┆ null      ┆ null      ┆ null      ┆ … ┆ 3.678076  ┆ 2.793581  ┆ 2.61825   ┆ 3.418133 │\n",
       "└───────────┴───────────┴───────────┴───────────┴───┴───────────┴───────────┴───────────┴──────────┘"
      ]
     },
     "execution_count": 6,
     "metadata": {},
     "output_type": "execute_result"
    }
   ],
   "source": [
    "plan_train_feats = plan_train_set.select(pl.col(\"^feature_.*$\"))\n",
    "plan_train_feats.collect().head()"
   ]
  },
  {
   "cell_type": "code",
   "execution_count": 7,
   "id": "a9285fa4",
   "metadata": {},
   "outputs": [
    {
     "data": {
      "text/html": [
       "<div><style>\n",
       ".dataframe > thead > tr,\n",
       ".dataframe > tbody > tr {\n",
       "  text-align: right;\n",
       "  white-space: pre-wrap;\n",
       "}\n",
       "</style>\n",
       "<small>shape: (5, 79)</small><table border=\"1\" class=\"dataframe\"><thead><tr><th>feature_00</th><th>feature_01</th><th>feature_02</th><th>feature_03</th><th>feature_04</th><th>feature_05</th><th>feature_06</th><th>feature_07</th><th>feature_08</th><th>feature_09</th><th>feature_10</th><th>feature_11</th><th>feature_12</th><th>feature_13</th><th>feature_14</th><th>feature_15</th><th>feature_16</th><th>feature_17</th><th>feature_18</th><th>feature_19</th><th>feature_20</th><th>feature_21</th><th>feature_22</th><th>feature_23</th><th>feature_24</th><th>feature_25</th><th>feature_26</th><th>feature_27</th><th>feature_28</th><th>feature_29</th><th>feature_30</th><th>feature_31</th><th>feature_32</th><th>feature_33</th><th>feature_34</th><th>feature_35</th><th>feature_36</th><th>&hellip;</th><th>feature_42</th><th>feature_43</th><th>feature_44</th><th>feature_45</th><th>feature_46</th><th>feature_47</th><th>feature_48</th><th>feature_49</th><th>feature_50</th><th>feature_51</th><th>feature_52</th><th>feature_53</th><th>feature_54</th><th>feature_55</th><th>feature_56</th><th>feature_57</th><th>feature_58</th><th>feature_59</th><th>feature_60</th><th>feature_61</th><th>feature_62</th><th>feature_63</th><th>feature_64</th><th>feature_65</th><th>feature_66</th><th>feature_67</th><th>feature_68</th><th>feature_69</th><th>feature_70</th><th>feature_71</th><th>feature_72</th><th>feature_73</th><th>feature_74</th><th>feature_75</th><th>feature_76</th><th>feature_77</th><th>feature_78</th></tr><tr><td>f32</td><td>f32</td><td>f32</td><td>f32</td><td>f32</td><td>f32</td><td>f32</td><td>f32</td><td>f32</td><td>i8</td><td>i8</td><td>i16</td><td>f32</td><td>f32</td><td>f32</td><td>f32</td><td>f32</td><td>f32</td><td>f32</td><td>f32</td><td>f32</td><td>f32</td><td>f32</td><td>f32</td><td>f32</td><td>f32</td><td>f32</td><td>f32</td><td>f32</td><td>f32</td><td>f32</td><td>f32</td><td>f32</td><td>f32</td><td>f32</td><td>f32</td><td>f32</td><td>&hellip;</td><td>f32</td><td>f32</td><td>f32</td><td>f32</td><td>f32</td><td>f32</td><td>f32</td><td>f32</td><td>f32</td><td>f32</td><td>f32</td><td>f32</td><td>f32</td><td>f32</td><td>f32</td><td>f32</td><td>f32</td><td>f32</td><td>f32</td><td>f32</td><td>f32</td><td>f32</td><td>f32</td><td>f32</td><td>f32</td><td>f32</td><td>f32</td><td>f32</td><td>f32</td><td>f32</td><td>f32</td><td>f32</td><td>f32</td><td>f32</td><td>f32</td><td>f32</td><td>f32</td></tr></thead><tbody><tr><td>0.653638</td><td>2.198754</td><td>-0.198297</td><td>0.224291</td><td>2.852725</td><td>0.825279</td><td>2.266075</td><td>0.766185</td><td>0.036033</td><td>11</td><td>7</td><td>76</td><td>-0.777789</td><td>0.209351</td><td>-0.543527</td><td>null</td><td>-0.327792</td><td>null</td><td>-0.974575</td><td>-1.833984</td><td>-1.155611</td><td>-0.129055</td><td>-0.18312</td><td>0.781583</td><td>-0.170369</td><td>-0.272233</td><td>1.377188</td><td>0.839882</td><td>0.140909</td><td>-0.222573</td><td>-0.279321</td><td>-0.20658</td><td>null</td><td>null</td><td>-1.610952</td><td>-2.160539</td><td>0.891483</td><td>&hellip;</td><td>null</td><td>-0.639679</td><td>null</td><td>-1.486683</td><td>0.940282</td><td>0.068512</td><td>0.545302</td><td>0.118213</td><td>null</td><td>0.865484</td><td>null</td><td>null</td><td>-0.392299</td><td>null</td><td>-1.330438</td><td>2.243315</td><td>null</td><td>0.168773</td><td>-0.062025</td><td>0.61328</td><td>-0.386102</td><td>-0.16773</td><td>-0.268163</td><td>-1.372035</td><td>-1.248691</td><td>-0.827321</td><td>0.056538</td><td>-0.44961</td><td>-0.891529</td><td>0.354493</td><td>-0.723254</td><td>null</td><td>null</td><td>-0.215982</td><td>-0.143597</td><td>-0.291303</td><td>-0.369795</td></tr><tr><td>0.60227</td><td>2.037193</td><td>-0.205099</td><td>0.164635</td><td>2.089605</td><td>1.046435</td><td>3.319236</td><td>1.683911</td><td>0.065478</td><td>11</td><td>7</td><td>76</td><td>-0.592238</td><td>0.952971</td><td>-0.23747</td><td>null</td><td>-0.079895</td><td>null</td><td>-1.218711</td><td>-1.262983</td><td>-1.69775</td><td>0.105305</td><td>0.983402</td><td>1.797576</td><td>-0.909877</td><td>-1.239271</td><td>0.589516</td><td>1.175475</td><td>1.095303</td><td>-0.55926</td><td>-0.517902</td><td>0.071531</td><td>null</td><td>null</td><td>1.337161</td><td>1.07081</td><td>1.137291</td><td>&hellip;</td><td>null</td><td>-0.811337</td><td>null</td><td>-1.576211</td><td>0.714847</td><td>0.562134</td><td>-0.288386</td><td>0.144059</td><td>null</td><td>1.210798</td><td>null</td><td>null</td><td>0.123525</td><td>null</td><td>-0.870009</td><td>2.13797</td><td>null</td><td>0.251116</td><td>0.107858</td><td>0.61328</td><td>-0.363495</td><td>-0.243295</td><td>-0.367433</td><td>-1.938556</td><td>-2.104432</td><td>-0.765297</td><td>0.929756</td><td>-0.132269</td><td>-0.707898</td><td>0.643057</td><td>-0.336551</td><td>null</td><td>null</td><td>-0.265186</td><td>-0.178259</td><td>-0.232595</td><td>-0.312367</td></tr><tr><td>0.07485</td><td>2.167284</td><td>-0.164738</td><td>0.12676</td><td>2.52651</td><td>0.49116</td><td>1.783477</td><td>0.911501</td><td>0.04823</td><td>81</td><td>2</td><td>59</td><td>-0.826606</td><td>0.345691</td><td>-0.805456</td><td>null</td><td>-0.459432</td><td>null</td><td>-1.652119</td><td>-2.089218</td><td>0.277807</td><td>-0.212113</td><td>-1.062779</td><td>-1.349508</td><td>1.317141</td><td>-0.122495</td><td>0.966619</td><td>1.045411</td><td>0.556983</td><td>-0.466345</td><td>-0.543724</td><td>-0.260239</td><td>null</td><td>null</td><td>1.08513</td><td>1.173192</td><td>2.015734</td><td>&hellip;</td><td>null</td><td>0.109272</td><td>null</td><td>-1.986501</td><td>1.218621</td><td>1.268623</td><td>-0.68015</td><td>0.045226</td><td>null</td><td>0.045898</td><td>null</td><td>null</td><td>-1.315452</td><td>null</td><td>-2.11331</td><td>1.412617</td><td>null</td><td>-1.162586</td><td>-0.590398</td><td>0.61328</td><td>-0.41582</td><td>-0.262088</td><td>-0.389611</td><td>-1.130174</td><td>-1.156497</td><td>-0.978691</td><td>-0.100609</td><td>-0.39627</td><td>-0.987192</td><td>0.528615</td><td>-0.380612</td><td>null</td><td>null</td><td>-0.191881</td><td>-0.138189</td><td>-0.302623</td><td>-0.251448</td></tr><tr><td>0.590885</td><td>2.073502</td><td>0.029229</td><td>0.6459</td><td>2.263874</td><td>0.454036</td><td>1.212922</td><td>0.716108</td><td>0.033077</td><td>4</td><td>3</td><td>11</td><td>-1.120522</td><td>-0.016231</td><td>-0.694629</td><td>null</td><td>-0.781894</td><td>null</td><td>-2.180358</td><td>-1.498456</td><td>0.225393</td><td>0.239456</td><td>-0.986674</td><td>-1.295119</td><td>1.924675</td><td>0.475872</td><td>-0.42378</td><td>-2.050294</td><td>-1.516776</td><td>-0.783469</td><td>-0.742045</td><td>0.326289</td><td>null</td><td>null</td><td>-0.601088</td><td>-1.137856</td><td>-1.111369</td><td>&hellip;</td><td>null</td><td>1.10189</td><td>null</td><td>-1.317938</td><td>1.696318</td><td>0.069499</td><td>1.282036</td><td>0.41416</td><td>null</td><td>1.386339</td><td>null</td><td>null</td><td>0.781272</td><td>null</td><td>-1.206338</td><td>2.72017</td><td>null</td><td>1.766053</td><td>1.007932</td><td>0.61328</td><td>-0.436664</td><td>-0.237977</td><td>-0.320159</td><td>-2.211359</td><td>-2.286742</td><td>-0.722229</td><td>-0.110039</td><td>-0.626917</td><td>-0.589325</td><td>0.08313</td><td>-0.474187</td><td>null</td><td>null</td><td>2.34694</td><td>4.054324</td><td>4.119953</td><td>4.731141</td></tr><tr><td>0.603547</td><td>2.226605</td><td>-0.089176</td><td>0.267814</td><td>2.414924</td><td>0.594974</td><td>1.683337</td><td>1.430113</td><td>0.041524</td><td>15</td><td>1</td><td>9</td><td>-1.016874</td><td>0.288751</td><td>-0.417176</td><td>null</td><td>-0.532268</td><td>null</td><td>-1.28309</td><td>-1.495769</td><td>-0.745321</td><td>-0.041418</td><td>-1.167268</td><td>-1.00016</td><td>0.501984</td><td>-0.962245</td><td>-0.951838</td><td>-1.55216</td><td>-0.54972</td><td>-0.716685</td><td>-0.83996</td><td>-0.034939</td><td>null</td><td>null</td><td>1.459631</td><td>1.729872</td><td>2.505692</td><td>&hellip;</td><td>null</td><td>0.056481</td><td>null</td><td>-1.372009</td><td>0.800305</td><td>0.686966</td><td>0.384807</td><td>0.416568</td><td>null</td><td>0.488048</td><td>null</td><td>null</td><td>-0.494901</td><td>null</td><td>-1.960473</td><td>2.321916</td><td>null</td><td>0.075589</td><td>-0.113116</td><td>0.61328</td><td>-0.222476</td><td>-0.289736</td><td>-0.295307</td><td>-2.359311</td><td>-1.080917</td><td>-0.848741</td><td>0.199883</td><td>-0.468583</td><td>-0.891823</td><td>0.251808</td><td>-0.57279</td><td>null</td><td>null</td><td>0.82841</td><td>0.814308</td><td>-0.117861</td><td>-0.104273</td></tr></tbody></table></div>"
      ],
      "text/plain": [
       "shape: (5, 79)\n",
       "┌───────────┬───────────┬───────────┬───────────┬───┬───────────┬───────────┬───────────┬──────────┐\n",
       "│ feature_0 ┆ feature_0 ┆ feature_0 ┆ feature_0 ┆ … ┆ feature_7 ┆ feature_7 ┆ feature_7 ┆ feature_ │\n",
       "│ 0         ┆ 1         ┆ 2         ┆ 3         ┆   ┆ 5         ┆ 6         ┆ 7         ┆ 78       │\n",
       "│ ---       ┆ ---       ┆ ---       ┆ ---       ┆   ┆ ---       ┆ ---       ┆ ---       ┆ ---      │\n",
       "│ f32       ┆ f32       ┆ f32       ┆ f32       ┆   ┆ f32       ┆ f32       ┆ f32       ┆ f32      │\n",
       "╞═══════════╪═══════════╪═══════════╪═══════════╪═══╪═══════════╪═══════════╪═══════════╪══════════╡\n",
       "│ 0.653638  ┆ 2.198754  ┆ -0.198297 ┆ 0.224291  ┆ … ┆ -0.215982 ┆ -0.143597 ┆ -0.291303 ┆ -0.36979 │\n",
       "│           ┆           ┆           ┆           ┆   ┆           ┆           ┆           ┆ 5        │\n",
       "│ 0.60227   ┆ 2.037193  ┆ -0.205099 ┆ 0.164635  ┆ … ┆ -0.265186 ┆ -0.178259 ┆ -0.232595 ┆ -0.31236 │\n",
       "│           ┆           ┆           ┆           ┆   ┆           ┆           ┆           ┆ 7        │\n",
       "│ 0.07485   ┆ 2.167284  ┆ -0.164738 ┆ 0.12676   ┆ … ┆ -0.191881 ┆ -0.138189 ┆ -0.302623 ┆ -0.25144 │\n",
       "│           ┆           ┆           ┆           ┆   ┆           ┆           ┆           ┆ 8        │\n",
       "│ 0.590885  ┆ 2.073502  ┆ 0.029229  ┆ 0.6459    ┆ … ┆ 2.34694   ┆ 4.054324  ┆ 4.119953  ┆ 4.731141 │\n",
       "│ 0.603547  ┆ 2.226605  ┆ -0.089176 ┆ 0.267814  ┆ … ┆ 0.82841   ┆ 0.814308  ┆ -0.117861 ┆ -0.10427 │\n",
       "│           ┆           ┆           ┆           ┆   ┆           ┆           ┆           ┆ 3        │\n",
       "└───────────┴───────────┴───────────┴───────────┴───┴───────────┴───────────┴───────────┴──────────┘"
      ]
     },
     "execution_count": 7,
     "metadata": {},
     "output_type": "execute_result"
    }
   ],
   "source": [
    "plan_valid_feats = plan_valid_set.select(pl.col(\"^feature_.*$\"))\n",
    "plan_valid_feats.collect().head()"
   ]
  },
  {
   "cell_type": "code",
   "execution_count": 8,
   "id": "73f2cd15",
   "metadata": {},
   "outputs": [
    {
     "data": {
      "text/html": [
       "<div><style>\n",
       ".dataframe > thead > tr,\n",
       ".dataframe > tbody > tr {\n",
       "  text-align: right;\n",
       "  white-space: pre-wrap;\n",
       "}\n",
       "</style>\n",
       "<small>shape: (5, 1)</small><table border=\"1\" class=\"dataframe\"><thead><tr><th>responder_6</th></tr><tr><td>f32</td></tr></thead><tbody><tr><td>0.775981</td></tr><tr><td>0.703665</td></tr><tr><td>2.109352</td></tr><tr><td>1.114137</td></tr><tr><td>-3.57282</td></tr></tbody></table></div>"
      ],
      "text/plain": [
       "shape: (5, 1)\n",
       "┌─────────────┐\n",
       "│ responder_6 │\n",
       "│ ---         │\n",
       "│ f32         │\n",
       "╞═════════════╡\n",
       "│ 0.775981    │\n",
       "│ 0.703665    │\n",
       "│ 2.109352    │\n",
       "│ 1.114137    │\n",
       "│ -3.57282    │\n",
       "└─────────────┘"
      ]
     },
     "execution_count": 8,
     "metadata": {},
     "output_type": "execute_result"
    }
   ],
   "source": [
    "plan_train_target = plan_train_set.select(pl.col(\"responder_6\"))\n",
    "plan_train_target.collect().head()"
   ]
  },
  {
   "cell_type": "code",
   "execution_count": 9,
   "id": "8b3127d8",
   "metadata": {},
   "outputs": [
    {
     "data": {
      "text/html": [
       "<div><style>\n",
       ".dataframe > thead > tr,\n",
       ".dataframe > tbody > tr {\n",
       "  text-align: right;\n",
       "  white-space: pre-wrap;\n",
       "}\n",
       "</style>\n",
       "<small>shape: (5, 1)</small><table border=\"1\" class=\"dataframe\"><thead><tr><th>responder_6</th></tr><tr><td>f32</td></tr></thead><tbody><tr><td>-0.803032</td></tr><tr><td>-1.076396</td></tr><tr><td>-1.088245</td></tr><tr><td>0.001118</td></tr><tr><td>-0.69548</td></tr></tbody></table></div>"
      ],
      "text/plain": [
       "shape: (5, 1)\n",
       "┌─────────────┐\n",
       "│ responder_6 │\n",
       "│ ---         │\n",
       "│ f32         │\n",
       "╞═════════════╡\n",
       "│ -0.803032   │\n",
       "│ -1.076396   │\n",
       "│ -1.088245   │\n",
       "│ 0.001118    │\n",
       "│ -0.69548    │\n",
       "└─────────────┘"
      ]
     },
     "execution_count": 9,
     "metadata": {},
     "output_type": "execute_result"
    }
   ],
   "source": [
    "plan_valid_target = plan_valid_set.select(pl.col(\"responder_6\"))\n",
    "plan_valid_target.collect().head()"
   ]
  },
  {
   "cell_type": "code",
   "execution_count": 10,
   "id": "20594907",
   "metadata": {},
   "outputs": [
    {
     "data": {
      "text/html": [
       "<div><style>\n",
       ".dataframe > thead > tr,\n",
       ".dataframe > tbody > tr {\n",
       "  text-align: right;\n",
       "  white-space: pre-wrap;\n",
       "}\n",
       "</style>\n",
       "<small>shape: (5, 1)</small><table border=\"1\" class=\"dataframe\"><thead><tr><th>weight</th></tr><tr><td>f32</td></tr></thead><tbody><tr><td>3.889038</td></tr><tr><td>1.370613</td></tr><tr><td>2.285698</td></tr><tr><td>0.690606</td></tr><tr><td>0.44057</td></tr></tbody></table></div>"
      ],
      "text/plain": [
       "shape: (5, 1)\n",
       "┌──────────┐\n",
       "│ weight   │\n",
       "│ ---      │\n",
       "│ f32      │\n",
       "╞══════════╡\n",
       "│ 3.889038 │\n",
       "│ 1.370613 │\n",
       "│ 2.285698 │\n",
       "│ 0.690606 │\n",
       "│ 0.44057  │\n",
       "└──────────┘"
      ]
     },
     "execution_count": 10,
     "metadata": {},
     "output_type": "execute_result"
    }
   ],
   "source": [
    "plan_train_weight = plan_train_set.select(pl.col(\"weight\"))\n",
    "plan_train_weight.collect().head()"
   ]
  },
  {
   "cell_type": "code",
   "execution_count": 11,
   "id": "21fd9dee",
   "metadata": {},
   "outputs": [
    {
     "data": {
      "text/html": [
       "<div><style>\n",
       ".dataframe > thead > tr,\n",
       ".dataframe > tbody > tr {\n",
       "  text-align: right;\n",
       "  white-space: pre-wrap;\n",
       "}\n",
       "</style>\n",
       "<small>shape: (5, 1)</small><table border=\"1\" class=\"dataframe\"><thead><tr><th>weight</th></tr><tr><td>f32</td></tr></thead><tbody><tr><td>1.772753</td></tr><tr><td>3.322994</td></tr><tr><td>1.490064</td></tr><tr><td>1.252261</td></tr><tr><td>0.989003</td></tr></tbody></table></div>"
      ],
      "text/plain": [
       "shape: (5, 1)\n",
       "┌──────────┐\n",
       "│ weight   │\n",
       "│ ---      │\n",
       "│ f32      │\n",
       "╞══════════╡\n",
       "│ 1.772753 │\n",
       "│ 3.322994 │\n",
       "│ 1.490064 │\n",
       "│ 1.252261 │\n",
       "│ 0.989003 │\n",
       "└──────────┘"
      ]
     },
     "execution_count": 11,
     "metadata": {},
     "output_type": "execute_result"
    }
   ],
   "source": [
    "plan_valid_weight = plan_valid_set.select(pl.col(\"weight\"))\n",
    "plan_valid_weight.collect().head()"
   ]
  },
  {
   "cell_type": "code",
   "execution_count": 12,
   "id": "3eee7edd",
   "metadata": {},
   "outputs": [],
   "source": [
    "dtrain = xgb.DMatrix(\n",
    "    plan_train_feats.collect(),\n",
    "    label=plan_train_target.collect(),\n",
    "    weight=plan_train_weight.collect(),\n",
    "    feature_names=plan_train_feats.collect_schema().names(),\n",
    ")\n",
    "dvalid = xgb.DMatrix(\n",
    "    plan_valid_feats.collect(),\n",
    "    label=plan_valid_target.collect(),\n",
    "    weight=plan_valid_weight.collect(),\n",
    "    feature_names=plan_valid_feats.collect_schema().names(),\n",
    ")\n"
   ]
  },
  {
   "cell_type": "code",
   "execution_count": 21,
   "id": "c94895ed",
   "metadata": {},
   "outputs": [
    {
     "name": "stderr",
     "output_type": "stream",
     "text": [
      "/home/ypochien/yvictor/jane/.venv/lib/python3.10/site-packages/xgboost/core.py:158: UserWarning: [16:51:32] WARNING: /workspace/src/learner.cc:740: \n",
      "Parameters: { \"early_stopping_rounds\" } are not used.\n",
      "\n",
      "  warnings.warn(smsg, UserWarning)\n"
     ]
    },
    {
     "name": "stdout",
     "output_type": "stream",
     "text": [
      "[0]\ttrain-rmse:0.87261\tvalid-rmse:0.81208\n",
      "[1]\ttrain-rmse:0.87217\tvalid-rmse:0.81182\n",
      "[2]\ttrain-rmse:0.87176\tvalid-rmse:0.81155\n",
      "[3]\ttrain-rmse:0.87143\tvalid-rmse:0.81138\n",
      "[4]\ttrain-rmse:0.87114\tvalid-rmse:0.81122\n",
      "[5]\ttrain-rmse:0.87086\tvalid-rmse:0.81105\n",
      "[6]\ttrain-rmse:0.87063\tvalid-rmse:0.81095\n",
      "[7]\ttrain-rmse:0.87043\tvalid-rmse:0.81082\n",
      "[8]\ttrain-rmse:0.87023\tvalid-rmse:0.81070\n",
      "[9]\ttrain-rmse:0.87005\tvalid-rmse:0.81060\n",
      "[10]\ttrain-rmse:0.86989\tvalid-rmse:0.81050\n",
      "[11]\ttrain-rmse:0.86974\tvalid-rmse:0.81040\n",
      "[12]\ttrain-rmse:0.86959\tvalid-rmse:0.81033\n",
      "[13]\ttrain-rmse:0.86945\tvalid-rmse:0.81027\n",
      "[14]\ttrain-rmse:0.86932\tvalid-rmse:0.81022\n",
      "[15]\ttrain-rmse:0.86916\tvalid-rmse:0.81000\n",
      "[16]\ttrain-rmse:0.86899\tvalid-rmse:0.80981\n",
      "[17]\ttrain-rmse:0.86888\tvalid-rmse:0.80973\n",
      "[18]\ttrain-rmse:0.86877\tvalid-rmse:0.80969\n",
      "[19]\ttrain-rmse:0.86865\tvalid-rmse:0.80954\n",
      "[20]\ttrain-rmse:0.86854\tvalid-rmse:0.80947\n",
      "[21]\ttrain-rmse:0.86841\tvalid-rmse:0.80943\n",
      "[22]\ttrain-rmse:0.86829\tvalid-rmse:0.80935\n",
      "[23]\ttrain-rmse:0.86818\tvalid-rmse:0.80923\n",
      "[24]\ttrain-rmse:0.86809\tvalid-rmse:0.80917\n",
      "[25]\ttrain-rmse:0.86800\tvalid-rmse:0.80915\n",
      "[26]\ttrain-rmse:0.86792\tvalid-rmse:0.80908\n",
      "[27]\ttrain-rmse:0.86785\tvalid-rmse:0.80906\n",
      "[28]\ttrain-rmse:0.86778\tvalid-rmse:0.80904\n",
      "[29]\ttrain-rmse:0.86771\tvalid-rmse:0.80902\n",
      "[30]\ttrain-rmse:0.86762\tvalid-rmse:0.80897\n",
      "[31]\ttrain-rmse:0.86754\tvalid-rmse:0.80890\n",
      "[32]\ttrain-rmse:0.86747\tvalid-rmse:0.80888\n",
      "[33]\ttrain-rmse:0.86741\tvalid-rmse:0.80886\n",
      "[34]\ttrain-rmse:0.86733\tvalid-rmse:0.80882\n",
      "[35]\ttrain-rmse:0.86725\tvalid-rmse:0.80881\n",
      "[36]\ttrain-rmse:0.86719\tvalid-rmse:0.80879\n",
      "[37]\ttrain-rmse:0.86713\tvalid-rmse:0.80877\n",
      "[38]\ttrain-rmse:0.86706\tvalid-rmse:0.80870\n",
      "[39]\ttrain-rmse:0.86701\tvalid-rmse:0.80868\n",
      "[40]\ttrain-rmse:0.86693\tvalid-rmse:0.80866\n",
      "[41]\ttrain-rmse:0.86688\tvalid-rmse:0.80864\n",
      "[42]\ttrain-rmse:0.86682\tvalid-rmse:0.80863\n",
      "[43]\ttrain-rmse:0.86675\tvalid-rmse:0.80861\n",
      "[44]\ttrain-rmse:0.86670\tvalid-rmse:0.80858\n",
      "[45]\ttrain-rmse:0.86664\tvalid-rmse:0.80857\n",
      "[46]\ttrain-rmse:0.86660\tvalid-rmse:0.80855\n",
      "[47]\ttrain-rmse:0.86653\tvalid-rmse:0.80852\n",
      "[48]\ttrain-rmse:0.86649\tvalid-rmse:0.80850\n",
      "[49]\ttrain-rmse:0.86645\tvalid-rmse:0.80849\n",
      "[50]\ttrain-rmse:0.86637\tvalid-rmse:0.80847\n",
      "[51]\ttrain-rmse:0.86633\tvalid-rmse:0.80846\n",
      "[52]\ttrain-rmse:0.86628\tvalid-rmse:0.80845\n",
      "[53]\ttrain-rmse:0.86623\tvalid-rmse:0.80843\n",
      "[54]\ttrain-rmse:0.86617\tvalid-rmse:0.80841\n",
      "[55]\ttrain-rmse:0.86605\tvalid-rmse:0.80843\n",
      "[56]\ttrain-rmse:0.86595\tvalid-rmse:0.80842\n",
      "[57]\ttrain-rmse:0.86591\tvalid-rmse:0.80841\n",
      "[58]\ttrain-rmse:0.86585\tvalid-rmse:0.80840\n",
      "[59]\ttrain-rmse:0.86580\tvalid-rmse:0.80837\n",
      "[60]\ttrain-rmse:0.86575\tvalid-rmse:0.80836\n",
      "[61]\ttrain-rmse:0.86570\tvalid-rmse:0.80834\n",
      "[62]\ttrain-rmse:0.86567\tvalid-rmse:0.80834\n",
      "[63]\ttrain-rmse:0.86562\tvalid-rmse:0.80837\n",
      "[64]\ttrain-rmse:0.86558\tvalid-rmse:0.80835\n",
      "[65]\ttrain-rmse:0.86554\tvalid-rmse:0.80836\n",
      "[66]\ttrain-rmse:0.86550\tvalid-rmse:0.80833\n",
      "[67]\ttrain-rmse:0.86545\tvalid-rmse:0.80831\n",
      "[68]\ttrain-rmse:0.86541\tvalid-rmse:0.80830\n",
      "[69]\ttrain-rmse:0.86537\tvalid-rmse:0.80829\n",
      "[70]\ttrain-rmse:0.86525\tvalid-rmse:0.80835\n",
      "[71]\ttrain-rmse:0.86521\tvalid-rmse:0.80832\n",
      "[72]\ttrain-rmse:0.86517\tvalid-rmse:0.80832\n",
      "[73]\ttrain-rmse:0.86514\tvalid-rmse:0.80832\n",
      "[74]\ttrain-rmse:0.86494\tvalid-rmse:0.80840\n",
      "[75]\ttrain-rmse:0.86491\tvalid-rmse:0.80840\n",
      "[76]\ttrain-rmse:0.86487\tvalid-rmse:0.80838\n",
      "[77]\ttrain-rmse:0.86482\tvalid-rmse:0.80840\n",
      "[78]\ttrain-rmse:0.86478\tvalid-rmse:0.80840\n",
      "[79]\ttrain-rmse:0.86473\tvalid-rmse:0.80838\n",
      "[80]\ttrain-rmse:0.86469\tvalid-rmse:0.80841\n",
      "[81]\ttrain-rmse:0.86465\tvalid-rmse:0.80840\n",
      "[82]\ttrain-rmse:0.86461\tvalid-rmse:0.80839\n",
      "[83]\ttrain-rmse:0.86456\tvalid-rmse:0.80838\n",
      "[84]\ttrain-rmse:0.86452\tvalid-rmse:0.80837\n",
      "[85]\ttrain-rmse:0.86449\tvalid-rmse:0.80837\n",
      "[86]\ttrain-rmse:0.86445\tvalid-rmse:0.80836\n",
      "[87]\ttrain-rmse:0.86441\tvalid-rmse:0.80837\n",
      "[88]\ttrain-rmse:0.86438\tvalid-rmse:0.80837\n"
     ]
    }
   ],
   "source": [
    "# model = xgb.XGBRegressor(objective=\"reg:squarederror\")\n",
    "param = {\n",
    "    \"objective\": \"reg:squarederror\",\n",
    "    \"max_depth\": 5,\n",
    "    \"learning_rate\": 0.1,\n",
    "    \"subsample\": 0.8,\n",
    "    \"colsample_bytree\": 0.8,\n",
    "    \"nthread\": 32,\n",
    "    \"verbosity\": 1,\n",
    "}\n",
    "\n",
    "num_boost_round = 500\n",
    "model = xgb.train(\n",
    "    param, dtrain, num_boost_round, evals=[(dtrain, \"train\"), (dvalid, \"valid\")], early_stopping_rounds=20\n",
    ")\n"
   ]
  },
  {
   "cell_type": "code",
   "execution_count": 22,
   "id": "5cc24159",
   "metadata": {},
   "outputs": [
    {
     "data": {
      "text/plain": [
       "69"
      ]
     },
     "execution_count": 22,
     "metadata": {},
     "output_type": "execute_result"
    }
   ],
   "source": [
    "model.best_iteration"
   ]
  },
  {
   "cell_type": "code",
   "execution_count": 23,
   "id": "6fbef792-f2e0-4756-956a-81be80526963",
   "metadata": {},
   "outputs": [
    {
     "data": {
      "text/plain": [
       "array([ 0.01153709,  0.16565733,  0.12176925, ..., -0.10143218,\n",
       "       -0.07436967, -0.09300931], dtype=float32)"
      ]
     },
     "execution_count": 23,
     "metadata": {},
     "output_type": "execute_result"
    }
   ],
   "source": [
    "pred_valid = model.predict(dvalid)\n",
    "pred_valid"
   ]
  },
  {
   "cell_type": "code",
   "execution_count": 25,
   "id": "210c5f27",
   "metadata": {},
   "outputs": [
    {
     "name": "stderr",
     "output_type": "stream",
     "text": [
      "/home/ypochien/yvictor/jane/.venv/lib/python3.10/site-packages/xgboost/core.py:158: UserWarning: [16:56:08] WARNING: /workspace/src/c_api/c_api.cc:1374: Saving model in the UBJSON format as default.  You can use file extension: `json`, `ubj` or `deprecated` to choose between formats.\n",
      "  warnings.warn(smsg, UserWarning)\n"
     ]
    }
   ],
   "source": [
    "model.save_model(\"model_v1.xgb\")"
   ]
  },
  {
   "cell_type": "code",
   "execution_count": 27,
   "id": "c1063a48",
   "metadata": {},
   "outputs": [
    {
     "name": "stdout",
     "output_type": "stream",
     "text": [
      "-rw-rw-r-- 1 ypochien ypochien  30K Oct 17 16:17 model_v0.xgb\n",
      "-rw-rw-r-- 1 ypochien ypochien 249K Oct 17 16:56 model_v1.xgb\n"
     ]
    }
   ],
   "source": [
    "! ls -alh *.xgb"
   ]
  },
  {
   "cell_type": "code",
   "execution_count": 17,
   "id": "f861a010",
   "metadata": {},
   "outputs": [],
   "source": [
    "model = xgb.Booster(model_file=\"model_v0.xgb\")"
   ]
  },
  {
   "cell_type": "code",
   "execution_count": 24,
   "id": "96c6b24f",
   "metadata": {},
   "outputs": [
    {
     "data": {
      "text/html": [
       "<div><style>\n",
       ".dataframe > thead > tr,\n",
       ".dataframe > tbody > tr {\n",
       "  text-align: right;\n",
       "  white-space: pre-wrap;\n",
       "}\n",
       "</style>\n",
       "<small>shape: (1, 1)</small><table border=\"1\" class=\"dataframe\"><thead><tr><th>r2</th></tr><tr><td>f32</td></tr></thead><tbody><tr><td>0.009541</td></tr></tbody></table></div>"
      ],
      "text/plain": [
       "shape: (1, 1)\n",
       "┌──────────┐\n",
       "│ r2       │\n",
       "│ ---      │\n",
       "│ f32      │\n",
       "╞══════════╡\n",
       "│ 0.009541 │\n",
       "└──────────┘"
      ]
     },
     "execution_count": 24,
     "metadata": {},
     "output_type": "execute_result"
    }
   ],
   "source": [
    "plan_valid_set.select(\n",
    "    pl.col(\"responder_6\").alias(\"target\"),\n",
    "    pl.col(\"weight\").alias(\"w\"),\n",
    "    pl.Series(\"pred\", pred_valid),\n",
    ").select(\n",
    "    (1\n",
    "    - ((pl.col(\"target\") - pl.col(\"pred\")) ** 2 * pl.col(\"w\")).sum()\n",
    "    / ((pl.col(\"target\") ** 2 * pl.col(\"w\")).sum())).alias(\"r2\"),\n",
    ").collect()\n"
   ]
  },
  {
   "cell_type": "code",
   "execution_count": 18,
   "id": "b5056c0c-6dc7-4fee-b158-6483c48355d4",
   "metadata": {},
   "outputs": [],
   "source": [
    "import jane.kaggle_evaluation.jane_street_inference_server"
   ]
  },
  {
   "cell_type": "code",
   "execution_count": 19,
   "id": "6ccef5ac-cdb5-4373-a6db-09337f983d10",
   "metadata": {},
   "outputs": [],
   "source": [
    "lags_ : pl.DataFrame | None = None"
   ]
  },
  {
   "cell_type": "code",
   "execution_count": 25,
   "id": "d818421e",
   "metadata": {},
   "outputs": [],
   "source": [
    "feature_names = plan_train_feats.collect_schema().names()\n",
    "# feature_names"
   ]
  },
  {
   "cell_type": "code",
   "execution_count": 53,
   "id": "5a71c7e3",
   "metadata": {},
   "outputs": [],
   "source": [
    "def predict(test: pl.DataFrame, lags: pl.DataFrame | None) -> pl.DataFrame:\n",
    "    print(test)\n",
    "    print(lags)\n",
    "    \"\"\"Make a prediction.\"\"\"\n",
    "    # All the responders from the previous day are passed in at time_id == 0. We save them in a global variable for access at every time_id.\n",
    "    # Use them as extra features, if you like.\n",
    "    global lags_, feature_names, model\n",
    "    if lags is not None:\n",
    "        lags_ = lags\n",
    "    # dtest = xgb.DMatrix(test.select(pl.col(\"^feature_.*$\")))\n",
    "    dtest = xgb.DMatrix(test.select(pl.col(feature_names)), feature_names=feature_names)\n",
    "    pred = model.predict(dtest)\n",
    "    print(pred)\n",
    "    predictions = test.select(\n",
    "        'row_id',\n",
    "        pl.Series(\"responder_6\", pred),\n",
    "        # pl.lit(0.0).alias('responder_6'),\n",
    "    )\n",
    "\n",
    "    # The predict function must return a DataFrame\n",
    "    assert isinstance(predictions, pl.DataFrame)\n",
    "    # with columns 'row_id', 'responer_6'\n",
    "    assert predictions.columns == ['row_id', 'responder_6']\n",
    "    # and as many rows as the test data.\n",
    "    assert len(predictions) == len(test)\n",
    "\n",
    "    return predictions"
   ]
  },
  {
   "cell_type": "code",
   "execution_count": 68,
   "id": "051188ae",
   "metadata": {},
   "outputs": [],
   "source": [
    "inference_server = jane.kaggle_evaluation.jane_street_inference_server.JSInferenceServer(predict)"
   ]
  },
  {
   "cell_type": "code",
   "execution_count": 69,
   "id": "c1de4ae5",
   "metadata": {},
   "outputs": [],
   "source": [
    "if os.getenv('KAGGLE_IS_COMPETITION_RERUN'):\n",
    "    inference_server.serve()\n",
    "else:\n",
    "    inference_server.run_local_gateway(\n",
    "        (\n",
    "            'data/test.parquet',\n",
    "            'data/lags.parquet',\n",
    "        )\n",
    "    )"
   ]
  },
  {
   "cell_type": "code",
   "execution_count": 65,
   "id": "aaff0314",
   "metadata": {},
   "outputs": [
    {
     "name": "stdout",
     "output_type": "stream",
     "text": [
      "shape: (39, 85)\n",
      "┌────────┬─────────┬─────────┬───────────┬───┬────────────┬────────────┬────────────┬────────────┐\n",
      "│ row_id ┆ date_id ┆ time_id ┆ symbol_id ┆ … ┆ feature_75 ┆ feature_76 ┆ feature_77 ┆ feature_78 │\n",
      "│ ---    ┆ ---     ┆ ---     ┆ ---       ┆   ┆ ---        ┆ ---        ┆ ---        ┆ ---        │\n",
      "│ i64    ┆ i16     ┆ i16     ┆ i8        ┆   ┆ f32        ┆ f32        ┆ f32        ┆ f32        │\n",
      "╞════════╪═════════╪═════════╪═══════════╪═══╪════════════╪════════════╪════════════╪════════════╡\n",
      "│ 0      ┆ 0       ┆ 0       ┆ 0         ┆ … ┆ 0.0        ┆ 0.0        ┆ -0.0       ┆ -0.0       │\n",
      "│ 1      ┆ 0       ┆ 0       ┆ 1         ┆ … ┆ 0.0        ┆ 0.0        ┆ 0.0        ┆ 0.0        │\n",
      "│ 2      ┆ 0       ┆ 0       ┆ 2         ┆ … ┆ 0.0        ┆ 0.0        ┆ -0.0       ┆ -0.0       │\n",
      "│ 3      ┆ 0       ┆ 0       ┆ 3         ┆ … ┆ 0.0        ┆ 0.0        ┆ -0.0       ┆ -0.0       │\n",
      "│ 4      ┆ 0       ┆ 0       ┆ 4         ┆ … ┆ 0.0        ┆ 0.0        ┆ 0.0        ┆ 0.0        │\n",
      "│ …      ┆ …       ┆ …       ┆ …         ┆ … ┆ …          ┆ …          ┆ …          ┆ …          │\n",
      "│ 34     ┆ 0       ┆ 0       ┆ 34        ┆ … ┆ 0.0        ┆ 0.0        ┆ 0.0        ┆ 0.0        │\n",
      "│ 35     ┆ 0       ┆ 0       ┆ 35        ┆ … ┆ 0.0        ┆ 0.0        ┆ -0.0       ┆ -0.0       │\n",
      "│ 36     ┆ 0       ┆ 0       ┆ 36        ┆ … ┆ 0.0        ┆ 0.0        ┆ 0.0        ┆ 0.0        │\n",
      "│ 37     ┆ 0       ┆ 0       ┆ 37        ┆ … ┆ 0.0        ┆ 0.0        ┆ 0.0        ┆ 0.0        │\n",
      "│ 38     ┆ 0       ┆ 0       ┆ 38        ┆ … ┆ 0.0        ┆ 0.0        ┆ -0.0       ┆ -0.0       │\n",
      "└────────┴─────────┴─────────┴───────────┴───┴────────────┴────────────┴────────────┴────────────┘\n",
      "None\n",
      "[0.03766706 0.03766706 0.03766706 0.03766706 0.03766706 0.03766706\n",
      " 0.03766706 0.03766706 0.03766706 0.03766706 0.03766706 0.03766706\n",
      " 0.03766706 0.03766706 0.03766706 0.03766706 0.03766706 0.03766706\n",
      " 0.03766706 0.03766706 0.03766706 0.03766706 0.03766706 0.03766706\n",
      " 0.03766706 0.03766706 0.03766706 0.03766706 0.03766706 0.03766706\n",
      " 0.03766706 0.03766706 0.03766706 0.03766706 0.03766706 0.03766706\n",
      " 0.03766706 0.03766706 0.03766706]\n"
     ]
    }
   ],
   "source": [
    "inference_server.run_local_gateway(\n",
    "    (\n",
    "        'data/test.parquet',\n",
    "        'data/lags.parquet',\n",
    "    )\n",
    ")"
   ]
  },
  {
   "cell_type": "code",
   "execution_count": 70,
   "id": "e8036289",
   "metadata": {},
   "outputs": [
    {
     "data": {
      "text/html": [
       "<div><style>\n",
       ".dataframe > thead > tr,\n",
       ".dataframe > tbody > tr {\n",
       "  text-align: right;\n",
       "  white-space: pre-wrap;\n",
       "}\n",
       "</style>\n",
       "<small>shape: (39, 2)</small><table border=\"1\" class=\"dataframe\"><thead><tr><th>row_id</th><th>responder_6</th></tr><tr><td>i64</td><td>f32</td></tr></thead><tbody><tr><td>0</td><td>0.037667</td></tr><tr><td>1</td><td>0.037667</td></tr><tr><td>2</td><td>0.037667</td></tr><tr><td>3</td><td>0.037667</td></tr><tr><td>4</td><td>0.037667</td></tr><tr><td>&hellip;</td><td>&hellip;</td></tr><tr><td>34</td><td>0.037667</td></tr><tr><td>35</td><td>0.037667</td></tr><tr><td>36</td><td>0.037667</td></tr><tr><td>37</td><td>0.037667</td></tr><tr><td>38</td><td>0.037667</td></tr></tbody></table></div>"
      ],
      "text/plain": [
       "shape: (39, 2)\n",
       "┌────────┬─────────────┐\n",
       "│ row_id ┆ responder_6 │\n",
       "│ ---    ┆ ---         │\n",
       "│ i64    ┆ f32         │\n",
       "╞════════╪═════════════╡\n",
       "│ 0      ┆ 0.037667    │\n",
       "│ 1      ┆ 0.037667    │\n",
       "│ 2      ┆ 0.037667    │\n",
       "│ 3      ┆ 0.037667    │\n",
       "│ 4      ┆ 0.037667    │\n",
       "│ …      ┆ …           │\n",
       "│ 34     ┆ 0.037667    │\n",
       "│ 35     ┆ 0.037667    │\n",
       "│ 36     ┆ 0.037667    │\n",
       "│ 37     ┆ 0.037667    │\n",
       "│ 38     ┆ 0.037667    │\n",
       "└────────┴─────────────┘"
      ]
     },
     "execution_count": 70,
     "metadata": {},
     "output_type": "execute_result"
    }
   ],
   "source": [
    "pl.read_parquet(\"submission.parquet\")"
   ]
  },
  {
   "cell_type": "code",
   "execution_count": 72,
   "id": "54280d52",
   "metadata": {},
   "outputs": [
    {
     "data": {
      "text/plain": [
       "'2.1.1'"
      ]
     },
     "execution_count": 72,
     "metadata": {},
     "output_type": "execute_result"
    }
   ],
   "source": [
    "xgb.__version__"
   ]
  },
  {
   "cell_type": "code",
   "execution_count": null,
   "id": "bc0af15f",
   "metadata": {},
   "outputs": [],
   "source": []
  }
 ],
 "metadata": {
  "kernelspec": {
   "display_name": "jane",
   "language": "python",
   "name": "jane"
  },
  "language_info": {
   "codemirror_mode": {
    "name": "ipython",
    "version": 3
   },
   "file_extension": ".py",
   "mimetype": "text/x-python",
   "name": "python",
   "nbconvert_exporter": "python",
   "pygments_lexer": "ipython3",
   "version": "3.10.15"
  }
 },
 "nbformat": 4,
 "nbformat_minor": 5
}
